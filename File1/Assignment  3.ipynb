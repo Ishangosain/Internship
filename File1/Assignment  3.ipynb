{
 "cells": [
  {
   "cell_type": "code",
   "execution_count": 1,
   "id": "6b6ca946",
   "metadata": {},
   "outputs": [
    {
     "name": "stdout",
     "output_type": "stream",
     "text": [
      "Requirement already satisfied: selenium in c:\\anaconda\\lib\\site-packages (4.18.1)\n",
      "Requirement already satisfied: urllib3[socks]<3,>=1.26 in c:\\anaconda\\lib\\site-packages (from selenium) (1.26.16)\n",
      "Requirement already satisfied: trio~=0.17 in c:\\anaconda\\lib\\site-packages (from selenium) (0.24.0)\n",
      "Requirement already satisfied: trio-websocket~=0.9 in c:\\anaconda\\lib\\site-packages (from selenium) (0.11.1)\n",
      "Requirement already satisfied: certifi>=2021.10.8 in c:\\anaconda\\lib\\site-packages (from selenium) (2023.11.17)\n",
      "Requirement already satisfied: typing_extensions>=4.9.0 in c:\\anaconda\\lib\\site-packages (from selenium) (4.10.0)\n",
      "Requirement already satisfied: attrs>=20.1.0 in c:\\anaconda\\lib\\site-packages (from trio~=0.17->selenium) (22.1.0)\n",
      "Requirement already satisfied: sortedcontainers in c:\\anaconda\\lib\\site-packages (from trio~=0.17->selenium) (2.4.0)\n",
      "Requirement already satisfied: idna in c:\\anaconda\\lib\\site-packages (from trio~=0.17->selenium) (3.4)\n",
      "Requirement already satisfied: outcome in c:\\anaconda\\lib\\site-packages (from trio~=0.17->selenium) (1.3.0.post0)\n",
      "Requirement already satisfied: sniffio>=1.3.0 in c:\\anaconda\\lib\\site-packages (from trio~=0.17->selenium) (1.3.1)\n",
      "Requirement already satisfied: cffi>=1.14 in c:\\anaconda\\lib\\site-packages (from trio~=0.17->selenium) (1.15.1)\n",
      "Requirement already satisfied: wsproto>=0.14 in c:\\anaconda\\lib\\site-packages (from trio-websocket~=0.9->selenium) (1.2.0)\n",
      "Requirement already satisfied: PySocks!=1.5.7,<2.0,>=1.5.6 in c:\\anaconda\\lib\\site-packages (from urllib3[socks]<3,>=1.26->selenium) (1.7.1)\n",
      "Requirement already satisfied: pycparser in c:\\anaconda\\lib\\site-packages (from cffi>=1.14->trio~=0.17->selenium) (2.21)\n",
      "Requirement already satisfied: h11<1,>=0.9.0 in c:\\anaconda\\lib\\site-packages (from wsproto>=0.14->trio-websocket~=0.9->selenium) (0.14.0)\n"
     ]
    }
   ],
   "source": [
    "!pip install selenium"
   ]
  },
  {
   "cell_type": "code",
   "execution_count": 2,
   "id": "ba1eaff0",
   "metadata": {},
   "outputs": [],
   "source": [
    "import time\n",
    "from selenium import webdriver\n",
    "import selenium\n",
    "import pandas as pd\n",
    "import warnings\n",
    "warnings.filterwarnings('ignore')\n",
    "from selenium.webdriver.common.by import By\n",
    "from selenium.common.exceptions import StaleElementReferenceException, NoSuchElementException"
   ]
  },
  {
   "cell_type": "code",
   "execution_count": null,
   "id": "42c6b0bb",
   "metadata": {},
   "outputs": [],
   "source": [
    "#Q1)Write a python program which searches all the product under a particular product from www.amazon.in. The product to be searched \n",
    "#will be taken as input from user. For e.g. If user input is ‘guitar’. Then search for guitars.\n",
    "driver=webdriver.Chrome()"
   ]
  },
  {
   "cell_type": "code",
   "execution_count": null,
   "id": "c6991696",
   "metadata": {},
   "outputs": [],
   "source": [
    "val=input(\"enter your item: \")\n"
   ]
  },
  {
   "cell_type": "code",
   "execution_count": null,
   "id": "e935c7b0",
   "metadata": {},
   "outputs": [],
   "source": [
    "#Q2)In the above question, now scrape the following details of each product listed in first 3 pages of your search results and save it in a data frame and csv. In case if any product has less than 3 pages in search results then \n",
    "#scrape all the products available under that product name. Details to be scraped are: \"BrandName\", \"Name of the Product\", \"Price\", \"Return/Exchange\", \"Expected Delivery\", \"Availability\" and \n",
    "#“Product URL”. In case, if any of the details are missing for any of the product then replace it by “-“. \n",
    "driver.get(\"https://www.amazon.in/\")\n"
   ]
  },
  {
   "cell_type": "code",
   "execution_count": null,
   "id": "0db8a142",
   "metadata": {},
   "outputs": [],
   "source": [
    "Input=driver.find_element(By.XPATH,\"/html/body/div[1]/header/div/div[1]/div[2]/div/form/div[2]/div[1]/input\")\n",
    "Input.send_keys(\"guitars\")"
   ]
  },
  {
   "cell_type": "code",
   "execution_count": null,
   "id": "ef284a2a",
   "metadata": {},
   "outputs": [],
   "source": [
    "search=driver.find_element(By.XPATH,\"/html/body/div[1]/header/div/div[1]/div[2]/div/form/div[3]/div/span/input\")\n",
    "search.click()"
   ]
  },
  {
   "cell_type": "code",
   "execution_count": null,
   "id": "c7ea840a",
   "metadata": {},
   "outputs": [],
   "source": [
    "url=[]\n"
   ]
  },
  {
   "cell_type": "code",
   "execution_count": null,
   "id": "b62bb5cc",
   "metadata": {},
   "outputs": [],
   "source": [
    "for page in range (1,3):\n",
    "    try:\n",
    "       \n",
    "        url_tags=driver.find_elements(By.XPATH, '//a[@class=\"a-link-normal s-underline-text s-underline-link-text s-link-style a-text-normal\"]' )\n",
    "        for i in url_tags:\n",
    "            url.append(i.get_attribute('href'))\n",
    "    except NoSuchElementException:\n",
    "          url.append('-')\n",
    "        \n",
    "        \n",
    "    next_button=driver.find_element(By.XPATH,'//a[@class=\"s-pagination-item s-pagination-next s-pagination-button s-pagination-button-accessibility s-pagination-separator\"]')\n",
    "    next_button.click()\n",
    "    time.sleep(5)"
   ]
  },
  {
   "cell_type": "code",
   "execution_count": null,
   "id": "e05cac59",
   "metadata": {},
   "outputs": [],
   "source": [
    "brand_name=[]\n",
    "product_name=[]\n",
    "price=[]\n",
    "return_exchange=[]\n",
    "expected_delivery=[]\n",
    "availability=[]\n",
    "product_url=[]"
   ]
  },
  {
   "cell_type": "code",
   "execution_count": null,
   "id": "a31bb64c",
   "metadata": {},
   "outputs": [],
   "source": [
    "for details in url:\n",
    "    driver.get(details)\n",
    "    time.sleep(5)\n",
    "    \n",
    "    try:\n",
    "        brand_tags= driver.find_elements(By.XPATH,'//tr[@class=\"a-spacing-small po-brand\"]/td[2]')\n",
    "        for i in brand_tags:\n",
    "            brand_name.append(i.text)\n",
    "            \n",
    "            \n",
    "    except NoSuchElementException:\n",
    "        brand_name.append('No details')\n",
    "        \n",
    "        \n",
    "    try:\n",
    "        product_tags=driver.find_elements(By.XPATH,'//h1[@class=\"a-size-large a-spacing-none\"]')\n",
    "        for i in product_tags:\n",
    "            product_name.append(i.text)\n",
    "        \n",
    "    except NoSuchElementException:\n",
    "        brand_name.append('No details')\n",
    "        \n",
    "    try:\n",
    "        price_tags=driver.find_elements(By.XPATH,'//span[@class=\"a-price aok-align-center\"]')\n",
    "        for i in price_tags:\n",
    "            price.append(i.text)\n",
    "            \n",
    "        \n",
    "    except NoSuchElementException:\n",
    "        brand_name.append('No details')\n",
    "        \n",
    "        \n",
    "    try:\n",
    "        exchange_tags= driver.find_elements(By.XPATH,'//span[@class=\"a-declarative\"]/div/a')\n",
    "        for i in exchange_tags:\n",
    "            return_exchange.append(i.text)\n",
    "            \n",
    "    except NoSuchElementException:\n",
    "        return_exchange.append('No details')\n",
    "        \n",
    "        \n",
    "    try:\n",
    "        delivery_tags= driver.find_elements(By.XPATH,'//div[@class=\"a-spacing-base\"]/span/span[1]')\n",
    "        for i in delivery_tags:\n",
    "                expected_delivery.append(i.text)\n",
    "                \n",
    "    except NoSuchElementException:\n",
    "        expected_delivery.append('No details')\n",
    "        \n",
    "        \n",
    "    try:\n",
    "        availability_tags = driver.find_elements(By.XPATH,'//div[@class=\"a-section a-spacing-none a-spacing-top-micro }\"]')\n",
    "        for i in availability_tags:\n",
    "            availability.append(i.text)\n",
    "            \n",
    "            \n",
    "    except NoSuchElementException:\n",
    "        availability.append('No details')\n",
    "\n",
    "    \n",
    "    try:\n",
    "        purl = driver.find_elements(By.XPATH,'//a[@class=\"a-link-normal s-underline-text s-underline-link-text s-link-style a-text-normal\"]')\n",
    "        for i in availability_tags:\n",
    "            product_url.append(i.text)\n",
    "            \n",
    "            \n",
    "    except NoSuchElementException:\n",
    "        product_url.append('No details')\n"
   ]
  },
  {
   "cell_type": "code",
   "execution_count": null,
   "id": "76720fae",
   "metadata": {},
   "outputs": [],
   "source": [
    "print(len(brand_name),len(product_name),len(price),len(return_exchange),len(expected_delivery),len(expected_len(availability),len(product_url))"
   ]
  },
  {
   "cell_type": "code",
   "execution_count": null,
   "id": "eb8358dc",
   "metadata": {},
   "outputs": [],
   "source": [
    "guitar = pd.DataFrame({'Brand Name':brand_name,'Product Name':product_name,'Price':price,'Return/Exchange':return_exchange,'Expected delivery':expected_delivery,'Availability':availability,'Product_url':product_url})\n",
    "guitar"
   ]
  },
  {
   "cell_type": "code",
   "execution_count": null,
   "id": "04b4db67",
   "metadata": {},
   "outputs": [],
   "source": [
    "guitar.to_csv('products.csv')"
   ]
  },
  {
   "cell_type": "code",
   "execution_count": null,
   "id": "ead4328a",
   "metadata": {},
   "outputs": [],
   "source": [
    "#Q3)Write a python program to access the search bar and search button on images.google.com and scrape 10 \n",
    "#images each for keywords ‘fruits’, ‘cars’ and ‘Machine Learning’, ‘Guitar’, ‘Cakes’. \n",
    "\n",
    "driver=webdriver.Chrome()"
   ]
  },
  {
   "cell_type": "code",
   "execution_count": null,
   "id": "29c89fe2",
   "metadata": {},
   "outputs": [],
   "source": [
    "driver.get('https://images.google.com/')"
   ]
  },
  {
   "cell_type": "code",
   "execution_count": null,
   "id": "13ff820d",
   "metadata": {},
   "outputs": [],
   "source": [
    "#scraping for fruits\n",
    "item1=driver.find_element(By.XPATH,'//textarea[@class=\"gLFyf\"]')\n",
    "item1.send_keys('fruits')"
   ]
  },
  {
   "cell_type": "code",
   "execution_count": null,
   "id": "9745f110",
   "metadata": {},
   "outputs": [],
   "source": [
    "search=driver.find_element(By.XPATH,'//span[@class=\"z1asCe MZy1Rb\"]')\n",
    "search.click()"
   ]
  },
  {
   "cell_type": "code",
   "execution_count": null,
   "id": "3431bae1",
   "metadata": {},
   "outputs": [],
   "source": [
    "fruits=[]"
   ]
  },
  {
   "cell_type": "code",
   "execution_count": null,
   "id": "9c888f75",
   "metadata": {},
   "outputs": [],
   "source": [
    "fruitem=driver.find_elements(By.XPATH,'//img[@class=\"YQ4gaf\"]')\n",
    "for i in fruitem [0:10]:\n",
    "    fruits.append(i.get_attribute('src'))\n",
    "    "
   ]
  },
  {
   "cell_type": "code",
   "execution_count": null,
   "id": "a677cb47",
   "metadata": {},
   "outputs": [],
   "source": [
    "print(len(fruits))"
   ]
  },
  {
   "cell_type": "code",
   "execution_count": null,
   "id": "59a0cc8b",
   "metadata": {},
   "outputs": [],
   "source": [
    "df=pd.DataFrame({'Fruits item':fruits})\n",
    "df"
   ]
  },
  {
   "cell_type": "code",
   "execution_count": null,
   "id": "e373f3d3",
   "metadata": {},
   "outputs": [],
   "source": []
  },
  {
   "cell_type": "code",
   "execution_count": null,
   "id": "d0af5fd6",
   "metadata": {},
   "outputs": [],
   "source": [
    "#scraping for cars\n",
    "driver.get('https://images.google.com/')"
   ]
  },
  {
   "cell_type": "code",
   "execution_count": null,
   "id": "9440a5f1",
   "metadata": {},
   "outputs": [],
   "source": [
    "item1=driver.find_element(By.XPATH,'//textarea[@class=\"gLFyf\"]')\n",
    "item1.send_keys('cars')"
   ]
  },
  {
   "cell_type": "code",
   "execution_count": null,
   "id": "b2e8fed9",
   "metadata": {},
   "outputs": [],
   "source": [
    "search=driver.find_element(By.XPATH,'//span[@class=\"z1asCe MZy1Rb\"]')\n",
    "search.click()"
   ]
  },
  {
   "cell_type": "code",
   "execution_count": null,
   "id": "662fd6c1",
   "metadata": {},
   "outputs": [],
   "source": [
    "cars=[]"
   ]
  },
  {
   "cell_type": "code",
   "execution_count": null,
   "id": "d61f682f",
   "metadata": {},
   "outputs": [],
   "source": [
    "caritem=driver.find_elements(By.XPATH,'//img[@class=\"YQ4gaf\"]')\n",
    "for i in caritem [0:10]:\n",
    "    cars.append(i.get_attribute('src'))"
   ]
  },
  {
   "cell_type": "code",
   "execution_count": null,
   "id": "f003245d",
   "metadata": {},
   "outputs": [],
   "source": [
    "print(len(cars))"
   ]
  },
  {
   "cell_type": "code",
   "execution_count": null,
   "id": "c2ec3ed8",
   "metadata": {},
   "outputs": [],
   "source": [
    "df=pd.DataFrame({'Cars':cars})\n",
    "df"
   ]
  },
  {
   "cell_type": "code",
   "execution_count": null,
   "id": "65c8888b",
   "metadata": {},
   "outputs": [],
   "source": []
  },
  {
   "cell_type": "code",
   "execution_count": null,
   "id": "47bd63e7",
   "metadata": {},
   "outputs": [],
   "source": [
    "#scraping for machine learning\n",
    "driver=webdriver.Chrome()\n",
    "driver.get('https://images.google.com/')"
   ]
  },
  {
   "cell_type": "code",
   "execution_count": null,
   "id": "e464f19f",
   "metadata": {},
   "outputs": [],
   "source": [
    "item3=driver.find_element(By.XPATH,'//textarea[@class=\"gLFyf\"]')\n",
    "item3.send_keys('Machine learning')"
   ]
  },
  {
   "cell_type": "code",
   "execution_count": null,
   "id": "dbc5b6ec",
   "metadata": {},
   "outputs": [],
   "source": [
    "search=driver.find_element(By.XPATH,'//span[@class=\"z1asCe MZy1Rb\"]')\n",
    "search.click()"
   ]
  },
  {
   "cell_type": "code",
   "execution_count": null,
   "id": "7ade92e8",
   "metadata": {},
   "outputs": [],
   "source": [
    "ml=[]"
   ]
  },
  {
   "cell_type": "code",
   "execution_count": null,
   "id": "226d4c03",
   "metadata": {},
   "outputs": [],
   "source": [
    "mlitem=driver.find_elements(By.XPATH,'//img[@class=\"YQ4gaf\"]')\n",
    "for i in mlitem [0:10]:\n",
    "    ml.append(i.get_attribute('src'))"
   ]
  },
  {
   "cell_type": "code",
   "execution_count": null,
   "id": "066ab95d",
   "metadata": {},
   "outputs": [],
   "source": [
    "print(len(ml))"
   ]
  },
  {
   "cell_type": "code",
   "execution_count": null,
   "id": "f76a073f",
   "metadata": {},
   "outputs": [],
   "source": [
    "df=pd.DataFrame({'Machine Learning':ml})\n",
    "df"
   ]
  },
  {
   "cell_type": "code",
   "execution_count": null,
   "id": "a949e47d",
   "metadata": {},
   "outputs": [],
   "source": []
  },
  {
   "cell_type": "code",
   "execution_count": null,
   "id": "e2b4c07b",
   "metadata": {},
   "outputs": [],
   "source": [
    "#scraping for cakes\n",
    "driver=webdriver.Chrome()\n",
    "driver.get('https://images.google.com/')"
   ]
  },
  {
   "cell_type": "code",
   "execution_count": null,
   "id": "508a328d",
   "metadata": {},
   "outputs": [],
   "source": [
    "item4=driver.find_element(By.XPATH,'//textarea[@class=\"gLFyf\"]')\n",
    "item4.send_keys('cakes')\n",
    "search=driver.find_element(By.XPATH,'//span[@class=\"z1asCe MZy1Rb\"]')\n",
    "search.click()\n",
    "cake=[]\n"
   ]
  },
  {
   "cell_type": "code",
   "execution_count": null,
   "id": "3129a955",
   "metadata": {},
   "outputs": [],
   "source": [
    "citem=driver.find_elements(By.XPATH,'//img[@class=\"YQ4gaf\"]')\n",
    "for i in citem [0:10]:\n",
    "    cake.append(i.get_attribute('src'))"
   ]
  },
  {
   "cell_type": "code",
   "execution_count": null,
   "id": "d501ad06",
   "metadata": {},
   "outputs": [],
   "source": [
    "print(len(cake))"
   ]
  },
  {
   "cell_type": "code",
   "execution_count": null,
   "id": "980eed2b",
   "metadata": {},
   "outputs": [],
   "source": [
    "df=pd.DataFrame({'Cakes':cake})\n",
    "df"
   ]
  },
  {
   "cell_type": "code",
   "execution_count": null,
   "id": "681359ad",
   "metadata": {},
   "outputs": [],
   "source": []
  },
  {
   "cell_type": "code",
   "execution_count": null,
   "id": "8abcdc49",
   "metadata": {},
   "outputs": [],
   "source": [
    "#scraping for guitars\n",
    "driver=webdriver.Chrome()\n",
    "driver.get('https://images.google.com/')"
   ]
  },
  {
   "cell_type": "code",
   "execution_count": null,
   "id": "6c39b9cc",
   "metadata": {},
   "outputs": [],
   "source": [
    "item5=driver.find_element(By.XPATH,'//textarea[@class=\"gLFyf\"]')\n",
    "item5.send_keys('guitar')\n",
    "search=driver.find_element(By.XPATH,'//span[@class=\"z1asCe MZy1Rb\"]')\n",
    "search.click()\n",
    "guitar=[]\n"
   ]
  },
  {
   "cell_type": "code",
   "execution_count": null,
   "id": "91c26577",
   "metadata": {},
   "outputs": [],
   "source": [
    "gitem=driver.find_elements(By.XPATH,'//img[@class=\"YQ4gaf\"]')\n",
    "for i in gitem [0:10]:\n",
    "    guitar.append(i.get_attribute('src'))"
   ]
  },
  {
   "cell_type": "code",
   "execution_count": null,
   "id": "757b1be8",
   "metadata": {},
   "outputs": [],
   "source": [
    "print(len(guitar))"
   ]
  },
  {
   "cell_type": "code",
   "execution_count": null,
   "id": "73af6d0d",
   "metadata": {},
   "outputs": [],
   "source": [
    "df=pd.DataFrame({'Guitars':guitar})\n",
    "df"
   ]
  },
  {
   "cell_type": "code",
   "execution_count": null,
   "id": "34d70bc3",
   "metadata": {},
   "outputs": [],
   "source": [
    "df=pd.DataFrame({'Fruits item':fruits,'Cars':cars,'Machine Learning':ml,'Cakes':cake,'Guitars':guitar})\n",
    "df"
   ]
  },
  {
   "cell_type": "code",
   "execution_count": null,
   "id": "a371bffd",
   "metadata": {},
   "outputs": [],
   "source": []
  },
  {
   "cell_type": "code",
   "execution_count": null,
   "id": "e773aa5a",
   "metadata": {},
   "outputs": [],
   "source": [
    "#Q4)Write a python program to search for a smartphone(e.g.: Oneplus Nord, pixel 4A, etc.) on www.flipkart.com and scrape following details for all the search results displayed on 1st page. Details to be scraped: “Brand Name”, “Smartphone name”, \n",
    "#“Colour”, “RAM”, “Storage(ROM)”, “Primary Camera”, “Secondary Camera”, “Display Size”, “Battery Capacity”, “Price”, “Product URL”. Incase if any of the \n",
    "#details is missing then replace it by “- “. Save your results in a dataframe and CSV\n",
    "\n",
    "driver=webdriver.Chrome()"
   ]
  },
  {
   "cell_type": "code",
   "execution_count": null,
   "id": "2f1d0a40",
   "metadata": {},
   "outputs": [],
   "source": [
    "driver.get('https://www.flipkart.com/')"
   ]
  },
  {
   "cell_type": "code",
   "execution_count": null,
   "id": "30dc83ca",
   "metadata": {},
   "outputs": [],
   "source": [
    "search=driver.find_element(By.XPATH,'//input[@class=\"Pke_EE\"]')\n",
    "search.send_keys('smartphone')"
   ]
  },
  {
   "cell_type": "code",
   "execution_count": null,
   "id": "60b5d83c",
   "metadata": {},
   "outputs": [],
   "source": [
    "find=driver.find_element(By.XPATH,'//button[@class=\"_2iLD__\"]')\n",
    "find.click()"
   ]
  },
  {
   "cell_type": "code",
   "execution_count": null,
   "id": "1e26187f",
   "metadata": {},
   "outputs": [],
   "source": [
    "url=[]\n",
    "try:\n",
    "    link_tags=driver.find_elements(By.XPATH,'//a[@class=\"_1fQZEK\"]')\n",
    "    for i in link_tags:\n",
    "        url.append(i.get_attribute('href'))\n",
    "        \n",
    "except NoSuchElementException:\n",
    "    url.append('-')"
   ]
  },
  {
   "cell_type": "code",
   "execution_count": null,
   "id": "fdf19de0",
   "metadata": {},
   "outputs": [],
   "source": [
    "url"
   ]
  },
  {
   "cell_type": "code",
   "execution_count": null,
   "id": "2cd20c6f",
   "metadata": {},
   "outputs": [],
   "source": [
    "print(len(url))"
   ]
  },
  {
   "cell_type": "code",
   "execution_count": null,
   "id": "d659a9a3",
   "metadata": {},
   "outputs": [],
   "source": [
    "brand=[]\n",
    "name=[]\n",
    "colour=[]\n",
    "ram=[]\n",
    "storage=[]\n",
    "primary_camera=[]\n",
    "secondary_camera=[]\n",
    "display=[]\n",
    "battery=[]\n",
    "price=[]"
   ]
  },
  {
   "cell_type": "code",
   "execution_count": null,
   "id": "f22ea7b0",
   "metadata": {},
   "outputs": [],
   "source": [
    "driver=webdriver.Chrome()\n",
    "for details in url:\n",
    "    driver.get(details)\n",
    "    time.sleep(5)\n",
    "    \n",
    "    try:\n",
    "        name_tags=driver.find_elements(By.XPATH,'//span[@class=\"B_NuCI\"]')\n",
    "        for i in name_tags:\n",
    "            name.append(i.text)\n",
    "            \n",
    "    except NoSuchElementException:\n",
    "        name.append('No details')\n",
    "\n",
    "    \n",
    "    try:\n",
    "        \n",
    "        brand_tags=driver.find_elements(By.XPATH,'//div[@class=\"_3k-BhJ\"][1]/table/tbody/tr[3]/td[2]')\n",
    "        for i in brand_tags:\n",
    "            brand.append(i.text)\n",
    "            \n",
    "    except NoSuchElementException:\n",
    "        brand.append('No details')\n",
    "        \n",
    "       \n",
    "        \n",
    "    try:\n",
    "        colour_tags=driver.find_elements(By.XPATH,'//div[@class=\"_3k-BhJ\"][1]/table/tbody/tr[4]/td[2]/ul/li')\n",
    "        for i in colour_tags:\n",
    "            colour.append (i.text)\n",
    "            \n",
    "            \n",
    "    except NoSuchElementException:\n",
    "        colour.append('No details')  \n",
    "        \n",
    " #Ram       \n",
    "    try:\n",
    "        storage_tags=driver.find_elements(By.XPATH,'//div[@class=\"_3k-BhJ\"][4]/table/tbody/tr[1]/td[2]/ul/li')\n",
    "        for i in storage_tags:\n",
    "            storage.append(i.text)\n",
    "            \n",
    "    except NoSuchElementException:\n",
    "        storage.append('No details')  \n",
    "        \n",
    "        \n",
    "#rom  \n",
    "    try:\n",
    "        ram_tags=driver.find_elements(By.XPATH,'//div[@class=\"_3k-BhJ\"][4]/table/tbody/tr[2]/td[2]/ul/li')\n",
    "        for i in ram_tags:\n",
    "            ram.append(i.text)\n",
    "            \n",
    "    except NoSuchElementException:\n",
    "        ram.append('No details')\n",
    " \n",
    "        \n",
    "#display\n",
    "    \n",
    "    try:\n",
    "        display_tags=driver.find_elements(By.XPATH,'//div[@class=\"_2418kt\"]/ul/li[2]')\n",
    "        for i in display_tags:\n",
    "            display.append(i.text)\n",
    "\n",
    "            \n",
    "    except NoSuchElementException:\n",
    "        display.append('No details')  \n",
    "        \n",
    "\n",
    "         \n",
    "#primarycamera  \n",
    "    try:\n",
    "        primary_camera_tags=driver.find_elements(By.XPATH,'//div[@class=\"_2418kt\"]/ul/li[3]')\n",
    "        for i in primary_camera_tags:\n",
    "            primary_camera.append(i.text)\n",
    "            \n",
    "    except NoSuchElementException:\n",
    "        camera.append('No details') \n",
    "        \n",
    "        \n",
    "    try:\n",
    "        secondary_camera_tags=driver.find_elements(By.XPATH,'//div[@class=\"_3k-BhJ\"][5]/table/tbody/tr[6]/td[2]/ul/li')\n",
    "        for i in secondary_camera_tags:\n",
    "            secondary_camera.append(i.text)\n",
    "            \n",
    "    except NoSuchElementException:\n",
    "        secondary_camera.append('No details') \n",
    "        \n",
    "#battery  \n",
    "      \n",
    "        \n",
    "    try:\n",
    "        battery_tags=driver.find_elements(By.XPATH,'//div[@class=\"_2418kt\"]/ul/li[4]')\n",
    "        for i in battery_tags:\n",
    "            battery.append(i.text)\n",
    "            \n",
    "    except NoSuchElementException:\n",
    "        battery.append('No details')  \n",
    "    \n",
    "# price\n",
    "    try:\n",
    "        price_tags= driver.find_elements(By.XPATH,'//div[@class=\"dyC4hf\"]/div/div/div[1]')\n",
    "        for i in price_tags:\n",
    "            price.append(i.text)\n",
    "            \n",
    "    except NoSuchElementException:\n",
    "        price.append('No details')\n"
   ]
  },
  {
   "cell_type": "code",
   "execution_count": null,
   "id": "2ff5132c",
   "metadata": {},
   "outputs": [],
   "source": [
    "print(len(name),len(brand),len(colour),len(ram),len(storage),len(primary_camera),len(display),len(battery),len(price),len(secondary_camera))\n"
   ]
  },
  {
   "cell_type": "code",
   "execution_count": null,
   "id": "30d81f7b",
   "metadata": {},
   "outputs": [],
   "source": [
    "df=pd.DataFrame({'Brand name':brand[:21],'Smartphone name':name[:21],'Colour':colour[:21],'Ram':ram[:21],'Primary_camera':primary_camera[:21],'Display':display[:21],'Storage':storage[:21],'Secondary_camera':secondary_camera[:21],'Battery':battery[:21],'Price':price[:21],'Product_Url':url[:21]})\n",
    "df"
   ]
  },
  {
   "cell_type": "code",
   "execution_count": null,
   "id": "c54128e6",
   "metadata": {},
   "outputs": [],
   "source": [
    "df.to_csv('products.csv')"
   ]
  },
  {
   "cell_type": "code",
   "execution_count": null,
   "id": "f0634ddd",
   "metadata": {},
   "outputs": [],
   "source": []
  },
  {
   "cell_type": "code",
   "execution_count": null,
   "id": "3a4d3db3",
   "metadata": {},
   "outputs": [],
   "source": [
    "#Q5)Write a program to scrap geospatial coordinates (latitude, longitude) of a city searched on google maps\n",
    "driver=webdriver.Chrome()"
   ]
  },
  {
   "cell_type": "code",
   "execution_count": null,
   "id": "f6581d83",
   "metadata": {},
   "outputs": [],
   "source": [
    "driver.get('https://www.google.com/maps')"
   ]
  },
  {
   "cell_type": "code",
   "execution_count": null,
   "id": "801f5377",
   "metadata": {},
   "outputs": [],
   "source": [
    "search=driver.find_element(By.XPATH,'//input[@class=\"searchboxinput xiQnY\"]')\n",
    "search.send_keys('Andheri east')"
   ]
  },
  {
   "cell_type": "code",
   "execution_count": null,
   "id": "af21e305",
   "metadata": {},
   "outputs": [],
   "source": [
    "find=driver.find_element(By.XPATH,'//button[@class=\"mL3xi\"]')\n",
    "find.click()"
   ]
  },
  {
   "cell_type": "code",
   "execution_count": null,
   "id": "84f13ec2",
   "metadata": {},
   "outputs": [],
   "source": [
    "current_url=driver.current_url\n",
    "print('Current url :',current_url)"
   ]
  },
  {
   "cell_type": "code",
   "execution_count": null,
   "id": "bb711663",
   "metadata": {},
   "outputs": [],
   "source": [
    "try:\n",
    "    if \"@\" in current_url:\n",
    "        location=current_url.split('@')[1].split(',*/data')[0].split(',')\n",
    "        location\n",
    "        print('Latitude of given Location:',location[0])\n",
    "        print('Longitude of given Location:',location[1])\n",
    "except:\n",
    "    print('Location detail not found in url')"
   ]
  },
  {
   "cell_type": "code",
   "execution_count": null,
   "id": "992d0548",
   "metadata": {},
   "outputs": [],
   "source": []
  },
  {
   "cell_type": "code",
   "execution_count": null,
   "id": "7875f274",
   "metadata": {},
   "outputs": [],
   "source": [
    "#Q6) Write a program to scrap all the available details of best gaming laptops from digit.in. \n",
    "\n",
    "driver=webdriver.Chrome()"
   ]
  },
  {
   "cell_type": "code",
   "execution_count": null,
   "id": "dc7f6fc6",
   "metadata": {},
   "outputs": [],
   "source": [
    "driver.get('https://www.digit.in')\n"
   ]
  },
  {
   "cell_type": "code",
   "execution_count": null,
   "id": "eb43fcc4",
   "metadata": {},
   "outputs": [],
   "source": [
    "laptop=driver.find_element(By.XPATH,'//input[@class=\"re-ajax-search\"]')\n",
    "laptop.send_keys('Gaming laptop')"
   ]
  },
  {
   "cell_type": "code",
   "execution_count": null,
   "id": "c1d4c0a8",
   "metadata": {},
   "outputs": [],
   "source": [
    "search=driver.find_element(By.XPATH,'//button[@class=\"btnsearch hideonmobile\"]')\n",
    "search.click()"
   ]
  },
  {
   "cell_type": "code",
   "execution_count": null,
   "id": "423c0d6d",
   "metadata": {},
   "outputs": [],
   "source": [
    "#fetching url to open each job\n",
    "laptop_url=[]\n",
    "url=driver.find_elements(By.XPATH,'//h3[@class=\" text-clamp text-clamp-2\"]/a')\n",
    "for i in url:\n",
    "    laptop_url.append(i.get_attribute('href'))"
   ]
  },
  {
   "cell_type": "code",
   "execution_count": null,
   "id": "79ae2cfd",
   "metadata": {},
   "outputs": [],
   "source": [
    "print(len(laptop_url))"
   ]
  },
  {
   "cell_type": "code",
   "execution_count": null,
   "id": "e2b0fb96",
   "metadata": {},
   "outputs": [],
   "source": [
    "laptop_url"
   ]
  },
  {
   "cell_type": "code",
   "execution_count": null,
   "id": "96d8447e",
   "metadata": {},
   "outputs": [],
   "source": [
    "price=[]\n",
    "os=[]\n",
    "model_name=[]\n",
    "size=[]\n",
    "ram=[]\n",
    "processor=[]\n",
    "storage=[]\n",
    "battery_type=[]\n",
    "power_supply=[]"
   ]
  },
  {
   "cell_type": "code",
   "execution_count": null,
   "id": "7b66f247",
   "metadata": {},
   "outputs": [],
   "source": [
    "for i in laptop_url: \n",
    "    driver.get(i) #taking each url one by one as an input \n",
    "    time.sleep(5)\n",
    "    try:\n",
    "        para1=driver.find_element(By.XPATH,'//span[@class=\"woocommerce-Price-amount amount\"]')\n",
    "        price.append(para1.text)\n",
    "    except NoSuchElementException:\n",
    "        price.append('Not present') \n",
    "        \n",
    "    try:\n",
    "        para2=driver.find_element(By.XPATH,'//td[@class=\"woocommerce-product-attributes-item__value\"][1]/p')\n",
    "        os.append(para2.text)\n",
    "    except NoSuchElementException:\n",
    "        os.append('Not present') \n",
    "    \n",
    "    \n",
    "    try:\n",
    "        para3=driver.find_element(By.XPATH,'//tr[@class=\"woocommerce-product-attributes-item woocommerce-product-attributes-item--attribute_pa_lap_model-name\"]/td')\n",
    "        model_name.append(para3.text)\n",
    "    except NoSuchElementException:\n",
    "        model_name.append('Not present') \n",
    "    \n",
    "    \n",
    "    try:\n",
    "        para4=driver.find_element(By.XPATH,'//tr[@class=\"woocommerce-product-attributes-item woocommerce-product-attributes-item--attribute_pa_lap_display-size-in-inche\"]/td')\n",
    "        size.append(para4.text)\n",
    "    except NoSuchElementException:\n",
    "        size.append('Not present') \n",
    "        \n",
    "        \n",
    "    try:\n",
    "        para5=driver.find_element(By.XPATH,'//tr[@class=\"woocommerce-product-attributes-item woocommerce-product-attributes-item--attribute_pa_lap_ram-included-in-gb\"]/td')\n",
    "        ram.append(para5.text)\n",
    "    except NoSuchElementException:\n",
    "        ram.append('Not present') \n",
    "        \n",
    "        \n",
    "    try:\n",
    "        para6=driver.find_element(By.XPATH,'//tr[@class=\"woocommerce-product-attributes-item woocommerce-product-attributes-item--attribute_pa_lap_processor-model-name\"]/td')\n",
    "        processor.append(para6.text)\n",
    "    except NoSuchElementException:\n",
    "        processor.append('Not present')     \n",
    "        \n",
    "        \n",
    "    try:\n",
    "        para7=driver.find_element(By.XPATH,'//tr[@class=\"woocommerce-product-attributes-item woocommerce-product-attributes-item--attribute_pa_lap_storage-drive-capacity\"]/td')\n",
    "        storage.append(para7.text)\n",
    "    except NoSuchElementException:\n",
    "        storage.append('Not present')     \n",
    "        \n",
    "    \n",
    "    try:\n",
    "        para8=driver.find_element(By.XPATH,'//tr[@class=\"woocommerce-product-attributes-item woocommerce-product-attributes-item--attribute_pa_lap_battery-type\"]/td')\n",
    "        battery_type.append(para8.text)\n",
    "    except NoSuchElementException:\n",
    "        battery_type.append('Not present')     \n",
    "        \n",
    "        \n",
    "    try:\n",
    "        para9=driver.find_element(By.XPATH,'//tr[@class=\"woocommerce-product-attributes-item woocommerce-product-attributes-item--attribute_pa_lap_power-supply\"]/td')\n",
    "        power_supply.append(para9.text)\n",
    "    except NoSuchElementException:\n",
    "        power_supply.append('Not present')         "
   ]
  },
  {
   "cell_type": "code",
   "execution_count": null,
   "id": "72e74976",
   "metadata": {},
   "outputs": [],
   "source": [
    "print(len(price),len(os),len(model_name),len(size),len(ram),len(processor),len(storage),len(battery_type),len(power_supply))"
   ]
  },
  {
   "cell_type": "code",
   "execution_count": null,
   "id": "c3d129e2",
   "metadata": {},
   "outputs": [],
   "source": [
    "df=pd.DataFrame({'Price':price,'OS':os,'Model_name':model_name,'Size':size,'Ram':ram,'Processor':processor,'Storage':storage,'Battery':battery_type,'Power':power_supply})\n",
    "df"
   ]
  },
  {
   "cell_type": "code",
   "execution_count": null,
   "id": "8b90419a",
   "metadata": {},
   "outputs": [],
   "source": []
  },
  {
   "cell_type": "code",
   "execution_count": null,
   "id": "0113ad4b",
   "metadata": {},
   "outputs": [],
   "source": [
    "#Q7)Write a python program to scrape the details for all billionaires from www.forbes.com. Details to be scrapped: \n",
    "#“Rank”, “Name”, “Net worth”, “Age”, “Citizenship”, “Source”, “Industry”.\n",
    "\n",
    "driver=webdriver.Chrome()"
   ]
  },
  {
   "cell_type": "code",
   "execution_count": null,
   "id": "19e23db0",
   "metadata": {},
   "outputs": [],
   "source": [
    "driver.get('https://www.forbes.com/?sh=43f482272254')"
   ]
  },
  {
   "cell_type": "code",
   "execution_count": null,
   "id": "d547b0de",
   "metadata": {},
   "outputs": [],
   "source": [
    "menu=driver.find_element(By.XPATH,'//div[@class=\"_69hVhdY4\"]')\n",
    "menu.click()"
   ]
  },
  {
   "cell_type": "code",
   "execution_count": null,
   "id": "b08a90f8",
   "metadata": {},
   "outputs": [],
   "source": [
    "#to click on billionaires\n",
    "menu2=driver.find_element(By.XPATH,'/html/body/div[1]/header/nav/div[1]/div[1]/div/div[2]/ul/li[2]/div[1]/span')\n",
    "menu2.click()\n"
   ]
  },
  {
   "cell_type": "code",
   "execution_count": null,
   "id": "93c3085d",
   "metadata": {},
   "outputs": [],
   "source": [
    "#to click on world's billionaires\n",
    "menu3=driver.find_element(By.XPATH,'//div[@class=\"xMDGnUGv\"]/ul/li[1]/a')\n",
    "menu3.click()\n"
   ]
  },
  {
   "cell_type": "code",
   "execution_count": null,
   "id": "7bcc23ab",
   "metadata": {},
   "outputs": [],
   "source": [
    "rank=[]\n",
    "name=[]\n",
    "net_worth=[]\n",
    "age=[]\n",
    "citizenship=[]\n",
    "source=[]\n",
    "industry=[]"
   ]
  },
  {
   "cell_type": "code",
   "execution_count": null,
   "id": "a587e369",
   "metadata": {},
   "outputs": [],
   "source": [
    "para1=driver.find_elements(By.XPATH,'//div[@class=\"Table_rank__X4MKf\"]/div')\n",
    "for i in para1:\n",
    "    rank_tag=i.text\n",
    "    rank.append(rank_tag)\n",
    "\n",
    "para2=driver.find_elements(By.XPATH,'//div[@class=\"Table_personName__Bus2E\"]')\n",
    "for i in para2:\n",
    "    name_tag=i.text\n",
    "    name.append(name_tag)\n",
    "    \n",
    "para3=driver.find_elements(By.XPATH,'//div[@class=\"Table_finalWorth__UZA6k\"]')\n",
    "for i in para3:\n",
    "    worth=i.text\n",
    "    net_worth.append(worth)\n",
    "\n",
    "\n",
    "para7=driver.find_elements(By.XPATH,'//div[@style=\"box-sizing: border-box; flex: 150 0 auto; min-width: 0px; width: 150px;\"][4]')\n",
    "for i in para7:\n",
    "    industry_tag=i.text\n",
    "    industry.append(industry_tag)        "
   ]
  },
  {
   "cell_type": "code",
   "execution_count": null,
   "id": "d1f014c4",
   "metadata": {},
   "outputs": [],
   "source": []
  },
  {
   "cell_type": "code",
   "execution_count": null,
   "id": "c7f9c741",
   "metadata": {},
   "outputs": [],
   "source": [
    "para4=driver.find_elements(By.XPATH,'//div[@style=\"box-sizing: border-box; flex: 150 0 auto; min-width: 0px; width: 150px;\"][4]')\n",
    "for i in para4:\n",
    "    age_tag=i.text\n",
    "    age.append(age_tag)\n"
   ]
  },
  {
   "cell_type": "code",
   "execution_count": null,
   "id": "5c3c3973",
   "metadata": {},
   "outputs": [],
   "source": [
    "para5=driver.find_elements(By.XPATH,' //div[@style=\"box-sizing: border-box; flex: 150 0 auto; min-width: 0px; width: 150px;\"][5]')\n",
    "for i in para5:\n",
    "    citizenship_tag=i.text\n",
    "    citizenship.append(citizenship_tag)"
   ]
  },
  {
   "cell_type": "code",
   "execution_count": null,
   "id": "edd7a26d",
   "metadata": {},
   "outputs": [],
   "source": [
    "para6=driver.find_elements(By.XPATH,' //div[@style=\"box-sizing: border-box; flex: 150 0 auto; min-width: 0px; width: 150px;\"][6]')\n",
    "for i in para6:\n",
    "    source_tag=i.text\n",
    "    source.append(source_tag)    \n",
    "    "
   ]
  },
  {
   "cell_type": "code",
   "execution_count": null,
   "id": "be742316",
   "metadata": {},
   "outputs": [],
   "source": [
    "print(len(rank),len(name),len(net_worth),len(age),len(citizenship),len(source),len(industry))"
   ]
  },
  {
   "cell_type": "code",
   "execution_count": null,
   "id": "cca74cc7",
   "metadata": {},
   "outputs": [],
   "source": [
    "df=pd.DataFrame({'Rank':rank,'Name':name,'Net_worth':net_worth,'Age':age,'Citizenship':citizenship,'Source':source,'Industry':industry})\n",
    "df"
   ]
  },
  {
   "cell_type": "code",
   "execution_count": null,
   "id": "f9f721b3",
   "metadata": {},
   "outputs": [],
   "source": []
  },
  {
   "cell_type": "code",
   "execution_count": 24,
   "id": "13855755",
   "metadata": {},
   "outputs": [],
   "source": [
    "#Q8)Write a program to extract at least 500 Comments, Comment upvote and time when comment was posted from any YouTube Video. \n",
    "\n",
    "driver=webdriver.Chrome()"
   ]
  },
  {
   "cell_type": "code",
   "execution_count": 25,
   "id": "4d4e9aaf",
   "metadata": {},
   "outputs": [],
   "source": [
    "driver.get('https://www.youtube.com/')"
   ]
  },
  {
   "cell_type": "code",
   "execution_count": 30,
   "id": "5bc0522d",
   "metadata": {},
   "outputs": [],
   "source": [
    "search=driver.find_element(By.XPATH,'//input[@class=\"ytd-searchbox\"]')\n",
    "search.send_keys('IGVT media')"
   ]
  },
  {
   "cell_type": "code",
   "execution_count": 31,
   "id": "ad1c20e6",
   "metadata": {},
   "outputs": [],
   "source": [
    "find=driver.find_element(By.XPATH,'//button[@class=\"style-scope ytd-searchbox\"]')\n",
    "find.click()"
   ]
  },
  {
   "cell_type": "code",
   "execution_count": 32,
   "id": "e18c647c",
   "metadata": {},
   "outputs": [],
   "source": [
    "trailor=driver.find_element(By.XPATH,'//a[@class=\"yt-simple-endpoint style-scope ytd-video-renderer\"]')\n",
    "trailor.click()"
   ]
  },
  {
   "cell_type": "code",
   "execution_count": 34,
   "id": "04039f71",
   "metadata": {},
   "outputs": [],
   "source": [
    "comment=[]\n",
    "vote=[]\n",
    "time=[]"
   ]
  },
  {
   "cell_type": "code",
   "execution_count": 35,
   "id": "cf4c25e9",
   "metadata": {},
   "outputs": [],
   "source": [
    "    try:\n",
    "        comment_tags=driver.find_elements(By.XPATH,'//yt-attributed-string[@class=\"style-scope ytd-comment-view-model\"]')\n",
    "        for i in comment_tags:\n",
    "            comment.append(i.text)\n",
    "    \n",
    "    except NoSuchElementException:\n",
    "         comment.append('No details')\n",
    "            \n",
    "    try:\n",
    "        vote_tags=driver.find_elements(By.XPATH,'//span[@id=\"vote-count-middle\"]')\n",
    "        for i in vote_tags:\n",
    "            vote.append(i.text)\n",
    "            \n",
    "    except NoSuchElementException:\n",
    "         vote.append('No details')\n",
    "            \n",
    "            \n",
    "    try:\n",
    "        time_tags= driver.find_elements(By.XPATH,'//span[@id=\"published-time-text\"]')\n",
    "        for i in time_tags:\n",
    "            time.append(i.text)\n",
    "            \n",
    "    except NoSuchElementException:\n",
    "         time.append('No details')"
   ]
  },
  {
   "cell_type": "code",
   "execution_count": 36,
   "id": "dbd85ce4",
   "metadata": {},
   "outputs": [
    {
     "name": "stdout",
     "output_type": "stream",
     "text": [
      "6 6 6\n"
     ]
    }
   ],
   "source": [
    "print(len(comment),len(vote),len(time))"
   ]
  },
  {
   "cell_type": "code",
   "execution_count": 37,
   "id": "ccfec9e1",
   "metadata": {},
   "outputs": [
    {
     "data": {
      "text/html": [
       "<div>\n",
       "<style scoped>\n",
       "    .dataframe tbody tr th:only-of-type {\n",
       "        vertical-align: middle;\n",
       "    }\n",
       "\n",
       "    .dataframe tbody tr th {\n",
       "        vertical-align: top;\n",
       "    }\n",
       "\n",
       "    .dataframe thead th {\n",
       "        text-align: right;\n",
       "    }\n",
       "</style>\n",
       "<table border=\"1\" class=\"dataframe\">\n",
       "  <thead>\n",
       "    <tr style=\"text-align: right;\">\n",
       "      <th></th>\n",
       "      <th>Commens</th>\n",
       "      <th>Votes</th>\n",
       "      <th>Time</th>\n",
       "    </tr>\n",
       "  </thead>\n",
       "  <tbody>\n",
       "    <tr>\n",
       "      <th>0</th>\n",
       "      <td>With the blessings of shirla Gurudev Well mana...</td>\n",
       "      <td>3</td>\n",
       "      <td>11 days ago</td>\n",
       "    </tr>\n",
       "    <tr>\n",
       "      <th>1</th>\n",
       "      <td>So wonderful</td>\n",
       "      <td>2</td>\n",
       "      <td>11 days ago</td>\n",
       "    </tr>\n",
       "    <tr>\n",
       "      <th>2</th>\n",
       "      <td>Jai gaurhari</td>\n",
       "      <td>2</td>\n",
       "      <td>11 days ago</td>\n",
       "    </tr>\n",
       "    <tr>\n",
       "      <th>3</th>\n",
       "      <td>Hare krishan</td>\n",
       "      <td>2</td>\n",
       "      <td>11 days ago</td>\n",
       "    </tr>\n",
       "    <tr>\n",
       "      <th>4</th>\n",
       "      <td>Hari bol</td>\n",
       "      <td></td>\n",
       "      <td>9 days ago</td>\n",
       "    </tr>\n",
       "    <tr>\n",
       "      <th>5</th>\n",
       "      <td></td>\n",
       "      <td></td>\n",
       "      <td>10 days ago</td>\n",
       "    </tr>\n",
       "  </tbody>\n",
       "</table>\n",
       "</div>"
      ],
      "text/plain": [
       "                                             Commens Votes         Time\n",
       "0  With the blessings of shirla Gurudev Well mana...     3  11 days ago\n",
       "1                                       So wonderful     2  11 days ago\n",
       "2                                       Jai gaurhari     2  11 days ago\n",
       "3                                      Hare krishan      2  11 days ago\n",
       "4                                           Hari bol         9 days ago\n",
       "5                                                           10 days ago"
      ]
     },
     "execution_count": 37,
     "metadata": {},
     "output_type": "execute_result"
    }
   ],
   "source": [
    "df=pd.DataFrame({'Commens':comment,'Votes':vote,'Time':time})\n",
    "df"
   ]
  },
  {
   "cell_type": "code",
   "execution_count": null,
   "id": "fd55b7d4",
   "metadata": {},
   "outputs": [],
   "source": []
  },
  {
   "cell_type": "code",
   "execution_count": 30,
   "id": "85706b7c",
   "metadata": {},
   "outputs": [],
   "source": [
    "#Q9)Write a python program to scrape a data for all available Hostels from https://www.hostelworld.com/ in \n",
    "#“London” location. You have to scrape hostel name, distance from city centre, ratings, total reviews, overall \n",
    "#reviews, privates from price, dorms from price, facilities and property description.\n",
    "\n",
    "driver=webdriver.Chrome()"
   ]
  },
  {
   "cell_type": "code",
   "execution_count": 31,
   "id": "d17cf1c8",
   "metadata": {},
   "outputs": [],
   "source": [
    "driver.get('https://www.hostelworld.com/')"
   ]
  },
  {
   "cell_type": "code",
   "execution_count": 32,
   "id": "c1aa2b87",
   "metadata": {},
   "outputs": [],
   "source": [
    "search= driver.find_element(By.XPATH,'//input[@class=\"native-input\"]')\n",
    "search.send_keys('London')"
   ]
  },
  {
   "cell_type": "code",
   "execution_count": 34,
   "id": "5ad9fd9d",
   "metadata": {},
   "outputs": [],
   "source": [
    "find=driver.find_element(By.XPATH,'//ul[@class=\"select-list\"]/li[2]')\n",
    "find.click()"
   ]
  },
  {
   "cell_type": "code",
   "execution_count": 36,
   "id": "49ee70d3",
   "metadata": {},
   "outputs": [],
   "source": [
    "letsgo=driver.find_element(By.XPATH,'//button[@class=\"btn-content medium-button icon-only\"]')\n",
    "letsgo.click()"
   ]
  },
  {
   "cell_type": "code",
   "execution_count": 37,
   "id": "4ee1ff41",
   "metadata": {},
   "outputs": [],
   "source": [
    "url=[]\n",
    "try:\n",
    "    url_tags=driver.find_elements(By.XPATH,'//a[@class=\"property-card-container horizontal\"]')\n",
    "    for i in url_tags:\n",
    "        url.append(i.get_attribute('href'))\n",
    "        \n",
    "except NoSuchElementException:\n",
    "    url.append('No Details')"
   ]
  },
  {
   "cell_type": "code",
   "execution_count": 38,
   "id": "0c812e8a",
   "metadata": {},
   "outputs": [
    {
     "name": "stdout",
     "output_type": "stream",
     "text": [
      "30\n"
     ]
    }
   ],
   "source": [
    "print(len(url))"
   ]
  },
  {
   "cell_type": "code",
   "execution_count": 39,
   "id": "9f489230",
   "metadata": {},
   "outputs": [
    {
     "data": {
      "text/plain": [
       "[\"https://www.hostelworld.com/pwa/hosteldetails.php/Wombat's%20City%20Hostel%20London/London/88047?from=2024-04-12&to=2024-04-15&guests=2\",\n",
       " 'https://www.hostelworld.com/pwa/hosteldetails.php/Palmers%20Lodge%20-%20Swiss%20Cottage/London/14348?from=2024-04-12&to=2024-04-15&guests=2',\n",
       " 'https://www.hostelworld.com/pwa/hosteldetails.php/NX%20London%20Hostel/London/15204?from=2024-04-12&to=2024-04-15&guests=2',\n",
       " 'https://www.hostelworld.com/pwa/hosteldetails.php/Urbany%20Hostel%20London/London/303427?from=2024-04-12&to=2024-04-15&guests=2',\n",
       " 'https://www.hostelworld.com/pwa/hosteldetails.php/Onefam%20Notting%20Hill/London/291433?from=2024-04-12&to=2024-04-15&guests=2',\n",
       " 'https://www.hostelworld.com/pwa/hosteldetails.php/Onefam%20Waterloo/London/39493?from=2024-04-12&to=2024-04-15&guests=2',\n",
       " 'https://www.hostelworld.com/pwa/hosteldetails.php/Generator%20London/London/510?from=2024-04-12&to=2024-04-15&guests=2',\n",
       " \"https://www.hostelworld.com/pwa/hosteldetails.php/St%20Christopher's%20Village/London/502?from=2024-04-12&to=2024-04-15&guests=2\",\n",
       " 'https://www.hostelworld.com/pwa/hosteldetails.php/Clink261/London/516?from=2024-04-12&to=2024-04-15&guests=2',\n",
       " 'https://www.hostelworld.com/pwa/hosteldetails.php/No.8%20Seven%20Sisters/London/91108?from=2024-04-12&to=2024-04-15&guests=2',\n",
       " 'https://www.hostelworld.com/pwa/hosteldetails.php/Safestay%20London%20Elephant%20&%20Castle/London/55551?from=2024-04-12&to=2024-04-15&guests=2',\n",
       " 'https://www.hostelworld.com/pwa/hosteldetails.php/No.8%20Willesden%20Hostel%20London/London/18420?from=2024-04-12&to=2024-04-15&guests=2',\n",
       " 'https://www.hostelworld.com/pwa/hosteldetails.php/Astor%20Hyde%20Park/London/25678?from=2024-04-12&to=2024-04-15&guests=2',\n",
       " 'https://www.hostelworld.com/pwa/hosteldetails.php/Smart%20Russell%20Square%20Hostel/London/29412?from=2024-04-12&to=2024-04-15&guests=2',\n",
       " 'https://www.hostelworld.com/pwa/hosteldetails.php/Safestay%20London%20Kensington%20Holland%20Park/London/93920?from=2024-04-12&to=2024-04-15&guests=2',\n",
       " 'https://www.hostelworld.com/pwa/hosteldetails.php/Queen%20Elizabeth%20Chelsea/London/50443?from=2024-04-12&to=2024-04-15&guests=2',\n",
       " 'https://www.hostelworld.com/pwa/hosteldetails.php/YHA%20London%20Oxford%20Street/London/6996?from=2024-04-12&to=2024-04-15&guests=2',\n",
       " 'https://www.hostelworld.com/pwa/hosteldetails.php/Astor%20Museum%20Inn/London/520?from=2024-04-12&to=2024-04-15&guests=2',\n",
       " 'https://www.hostelworld.com/pwa/hosteldetails.php/Phoenix%20Hostel/London/48221?from=2024-04-12&to=2024-04-15&guests=2',\n",
       " 'https://www.hostelworld.com/pwa/hosteldetails.php/Smart%20Hyde%20Park%20Inn%20Hostel/London/517?from=2024-04-12&to=2024-04-15&guests=2',\n",
       " 'https://www.hostelworld.com/pwa/hosteldetails.php/Hostelle%20-%20women%20only%20hostel%20London/London/316723?from=2024-04-12&to=2024-04-15&guests=2',\n",
       " 'https://www.hostelworld.com/pwa/hosteldetails.php/YHA%20London%20Central/London/23598?from=2024-04-12&to=2024-04-15&guests=2',\n",
       " 'https://www.hostelworld.com/pwa/hosteldetails.php/London%20Backpackers/London/527?from=2024-04-12&to=2024-04-15&guests=2',\n",
       " \"https://www.hostelworld.com/pwa/hosteldetails.php/St%20Christopher's%20Inn%20-%20London%20Bridge/London/503?from=2024-04-12&to=2024-04-15&guests=2\",\n",
       " 'https://www.hostelworld.com/pwa/hosteldetails.php/Kabannas%20London%20St%20Pancras/London/7010?from=2024-04-12&to=2024-04-15&guests=2',\n",
       " 'https://www.hostelworld.com/pwa/hosteldetails.php/Barmy%20Badger%20Backpackers/London/64746?from=2024-04-12&to=2024-04-15&guests=2',\n",
       " 'https://www.hostelworld.com/pwa/hosteldetails.php/Smart%20Camden%20Inn%20Hostel/London/596?from=2024-04-12&to=2024-04-15&guests=2',\n",
       " \"https://www.hostelworld.com/pwa/hosteldetails.php/St%20Christopher's%20Hammersmith/London/20976?from=2024-04-12&to=2024-04-15&guests=2\",\n",
       " 'https://www.hostelworld.com/pwa/hosteldetails.php/Astor%20Victoria/London/524?from=2024-04-12&to=2024-04-15&guests=2',\n",
       " 'https://www.hostelworld.com/pwa/hosteldetails.php/Astor%20Kensington/London/523?from=2024-04-12&to=2024-04-15&guests=2']"
      ]
     },
     "execution_count": 39,
     "metadata": {},
     "output_type": "execute_result"
    }
   ],
   "source": [
    "url"
   ]
  },
  {
   "cell_type": "code",
   "execution_count": 40,
   "id": "ca510510",
   "metadata": {},
   "outputs": [],
   "source": [
    "hostel=[]\n",
    "distance=[]\n",
    "rating=[]\n",
    "total_review=[]\n",
    "overall_review=[]\n",
    "private_room=[]\n",
    "dorm_price=[]\n",
    "description=[]\n",
    "facility=[]"
   ]
  },
  {
   "cell_type": "code",
   "execution_count": 41,
   "id": "7bc93e32",
   "metadata": {},
   "outputs": [],
   "source": [
    "for details in url:\n",
    "    driver.get(details)\n",
    "    time.sleep(5)\n",
    "\n",
    "    try:\n",
    "        hostel_tags=driver.find_elements(By.XPATH,'//div[@class=\"title-2\"]')\n",
    "        for i in hostel_tags[0:27]:\n",
    "            hostel.append(i.text)\n",
    "    except NoSuchElementException:\n",
    "        hostel.append('No Details')\n",
    "\n",
    "    try:\n",
    "        distance_tags=driver.find_elements(By.XPATH,'//div[@class=\"content\"]/div')\n",
    "        for i in distance_tags[0:27]:\n",
    "            distance.append(i.text)\n",
    "    except NoSuchElementException:\n",
    "        distance.append('No Details')\n",
    "    \n",
    "    try:\n",
    "        rating_tags=driver.find_elements(By.XPATH,'//div[@class=\"initial-property-info\"]/div[1]/div[1]/div[1]')\n",
    "        for i in rating_tags[0:27]:\n",
    "            rating.append(i.text)\n",
    "        \n",
    "    except NoSuchElementException:\n",
    "        rating.append('No Details')\n",
    "    \n",
    "    try:\n",
    "        total_review_tags=driver.find_elements(By.XPATH,'//div[@class=\"initial-property-info\"]/div[1]/div[1]/div/div[2]')\n",
    "        for i in total_review_tags:\n",
    "            total_review.append(i.text.split(' ')[0])\n",
    "        \n",
    "    except NoSuchElementException:\n",
    "        total_review.append('No Details')\n",
    "    \n",
    "    \n",
    "    try:\n",
    "        review_tags=driver.find_elements(By.XPATH,'//div[@class=\"initial-property-info\"]/div[1]/div[1]/div/div[1]')\n",
    "        for i in review_tags:\n",
    "            overall_review.append(i.text)\n",
    "        \n",
    "    except NoSuchElementException:\n",
    "        overall_review.append('No Details')\n",
    "    \n",
    "\n",
    "    try:\n",
    "        dorm_price_tags=driver.find_elements(By.XPATH,'//div[@class=\"availability-table\"]/div[2]/div[2]/div[2]/div[1]/div/div[1]/div[2]/div')\n",
    "        for i in dorm_price_tags:\n",
    "            dorm_price.append(i.text)\n",
    "    \n",
    "        \n",
    "    except NoSuchElementException:\n",
    "        dorm_price.append('No Details')\n",
    "    \n",
    "    try:\n",
    "        facility_tags= driver.find_elements(By.XPATH,'//div[@class=\"facilities-container\"]/ul/li[1]/ul')\n",
    "        for i in facility_tags:\n",
    "            facility.append(i.text)\n",
    "            \n",
    "    except NoSuchElementException:\n",
    "        facility.append('No Details')\n",
    "\n",
    "    try:\n",
    "        description_tags= driver.find_elements(By.XPATH,'//div[@class=\"flex-80\"]/div/div/div[2]')\n",
    "        for i in description_tags:\n",
    "            description.append(i.text)\n",
    "    except NoSuchElementException:\n",
    "        description.append('No Details') "
   ]
  },
  {
   "cell_type": "code",
   "execution_count": 42,
   "id": "f25675d7",
   "metadata": {},
   "outputs": [
    {
     "name": "stdout",
     "output_type": "stream",
     "text": [
      "30 30 30 30 30 34 30 30\n"
     ]
    }
   ],
   "source": [
    "print(len(hostel),len(distance),len(rating),len( total_review),len(overall_review),len(dorm_price),len(facility),len(description))\n"
   ]
  },
  {
   "cell_type": "code",
   "execution_count": 43,
   "id": "37c205a3",
   "metadata": {},
   "outputs": [],
   "source": [
    "hostel=hostel[0:30]\n",
    "distance=distance[0:30]\n",
    "rating=rating[0:30]\n",
    "total_review=total_review[0:30]\n",
    "overall_review=overall_review[0:30]\n",
    "dorm_price=dorm_price[0:30]\n",
    "facility=facility[0:30]"
   ]
  },
  {
   "cell_type": "code",
   "execution_count": 44,
   "id": "339cc54e",
   "metadata": {},
   "outputs": [
    {
     "data": {
      "text/html": [
       "<div>\n",
       "<style scoped>\n",
       "    .dataframe tbody tr th:only-of-type {\n",
       "        vertical-align: middle;\n",
       "    }\n",
       "\n",
       "    .dataframe tbody tr th {\n",
       "        vertical-align: top;\n",
       "    }\n",
       "\n",
       "    .dataframe thead th {\n",
       "        text-align: right;\n",
       "    }\n",
       "</style>\n",
       "<table border=\"1\" class=\"dataframe\">\n",
       "  <thead>\n",
       "    <tr style=\"text-align: right;\">\n",
       "      <th></th>\n",
       "      <th>Hostel</th>\n",
       "      <th>Distance</th>\n",
       "      <th>Ratings</th>\n",
       "      <th>Total_review</th>\n",
       "      <th>Overall_review</th>\n",
       "      <th>Dorm_price</th>\n",
       "      <th>Facility</th>\n",
       "      <th>Description</th>\n",
       "    </tr>\n",
       "  </thead>\n",
       "  <tbody>\n",
       "    <tr>\n",
       "      <th>0</th>\n",
       "      <td>Wombat's City Hostel London</td>\n",
       "      <td>7 Dock Street, London, England</td>\n",
       "      <td>9.2</td>\n",
       "      <td>16222</td>\n",
       "      <td>Superb</td>\n",
       "      <td>Rs28132.58</td>\n",
       "      <td>Linen Included Free City Maps Free WiFi Free I...</td>\n",
       "      <td>A safe haven in the middle of the metropolis: ...</td>\n",
       "    </tr>\n",
       "    <tr>\n",
       "      <th>1</th>\n",
       "      <td>Palmers Lodge - Swiss Cottage</td>\n",
       "      <td>40 College Crescent, Swiss Cottage, London, En...</td>\n",
       "      <td>8.7</td>\n",
       "      <td>16083</td>\n",
       "      <td>Fabulous</td>\n",
       "      <td>Rs35165.73</td>\n",
       "      <td>Linen Included Free WiFi Free Internet Access</td>\n",
       "      <td>Whether you're a backpacker, flash-packer or a...</td>\n",
       "    </tr>\n",
       "    <tr>\n",
       "      <th>2</th>\n",
       "      <td>NX London Hostel</td>\n",
       "      <td>323 New Cross Road, London, England</td>\n",
       "      <td>8.8</td>\n",
       "      <td>2278</td>\n",
       "      <td>Fabulous</td>\n",
       "      <td>Rs4688.76</td>\n",
       "      <td>Free Breakfast Linen Included Towels Included ...</td>\n",
       "      <td>Welcome to NX London Hostel!\\n\\nPLEASE READ IN...</td>\n",
       "    </tr>\n",
       "    <tr>\n",
       "      <th>3</th>\n",
       "      <td>Urbany Hostel London</td>\n",
       "      <td>48-49 Princes Square, Paddington, London, England</td>\n",
       "      <td>9.6</td>\n",
       "      <td>1197</td>\n",
       "      <td>Superb</td>\n",
       "      <td>Rs5860.96</td>\n",
       "      <td>Linen Included Free WiFi</td>\n",
       "      <td>Welcome to Urbany Hostel London! Ideal for the...</td>\n",
       "    </tr>\n",
       "    <tr>\n",
       "      <th>4</th>\n",
       "      <td>Onefam Notting Hill</td>\n",
       "      <td>63 Prince's Square, London, England</td>\n",
       "      <td>9.6</td>\n",
       "      <td>2729</td>\n",
       "      <td>Superb</td>\n",
       "      <td>Rs2909.98</td>\n",
       "      <td>Linen Included Free WiFi Free Internet Access</td>\n",
       "      <td>The perfect place for solo travelers to connec...</td>\n",
       "    </tr>\n",
       "    <tr>\n",
       "      <th>5</th>\n",
       "      <td>Onefam Waterloo</td>\n",
       "      <td>73 Lambeth Walk, London, London, England</td>\n",
       "      <td>9.6</td>\n",
       "      <td>251</td>\n",
       "      <td>Superb</td>\n",
       "      <td>Rs3932.88</td>\n",
       "      <td>Linen Included Free WiFi Free Internet Access</td>\n",
       "      <td>Come join us at our newest Onefam location in ...</td>\n",
       "    </tr>\n",
       "    <tr>\n",
       "      <th>6</th>\n",
       "      <td>Generator London</td>\n",
       "      <td>Compton Place, Off 37 Tavistock Place, WC1, Lo...</td>\n",
       "      <td>7.5</td>\n",
       "      <td>8162</td>\n",
       "      <td>Very Good</td>\n",
       "      <td>Rs13482.82</td>\n",
       "      <td>Linen Included Free City Maps Free WiFi Free I...</td>\n",
       "      <td>Generator London is a design hotel-hostel loca...</td>\n",
       "    </tr>\n",
       "    <tr>\n",
       "      <th>7</th>\n",
       "      <td>St Christopher's Village</td>\n",
       "      <td>165 Borough High Street, London, England</td>\n",
       "      <td>7.6</td>\n",
       "      <td>12991</td>\n",
       "      <td>Very Good</td>\n",
       "      <td>Rs17977.10</td>\n",
       "      <td>Linen Included Free City Maps Free WiFi Free I...</td>\n",
       "      <td>St Christopher's Inn at The Village in London ...</td>\n",
       "    </tr>\n",
       "    <tr>\n",
       "      <th>8</th>\n",
       "      <td>Clink261</td>\n",
       "      <td>261-265 Grays Inn Road, Kings Cross, London, E...</td>\n",
       "      <td>8.3</td>\n",
       "      <td>583</td>\n",
       "      <td>Fabulous</td>\n",
       "      <td>Rs2532.56</td>\n",
       "      <td>Linen Included Free City Maps Free WiFi</td>\n",
       "      <td>Welcome to Clink261!\\n\\nClink261 is a comforta...</td>\n",
       "    </tr>\n",
       "    <tr>\n",
       "      <th>9</th>\n",
       "      <td>No.8 Seven Sisters</td>\n",
       "      <td>618 Seven Sisters Rd, Seven Sisters, London, E...</td>\n",
       "      <td>7.8</td>\n",
       "      <td>4223</td>\n",
       "      <td>Very Good</td>\n",
       "      <td>Rs2979.36</td>\n",
       "      <td>Linen Included Free WiFi</td>\n",
       "      <td>For Great Facilities, Comfort &amp; Affordability ...</td>\n",
       "    </tr>\n",
       "    <tr>\n",
       "      <th>10</th>\n",
       "      <td>Safestay London Elephant &amp; Castle</td>\n",
       "      <td>144-152 Walworth Road, London, England</td>\n",
       "      <td>7.6</td>\n",
       "      <td>5319</td>\n",
       "      <td>Very Good</td>\n",
       "      <td>Rs11027.01</td>\n",
       "      <td>Linen Included Free WiFi</td>\n",
       "      <td>Safestay at Elephant &amp; Castle is ideal if you ...</td>\n",
       "    </tr>\n",
       "    <tr>\n",
       "      <th>11</th>\n",
       "      <td>No.8 Willesden Hostel London</td>\n",
       "      <td>305 High Rd, Willesden, London, England</td>\n",
       "      <td>7.0</td>\n",
       "      <td>5240</td>\n",
       "      <td>Very Good</td>\n",
       "      <td>Rs13783.49</td>\n",
       "      <td>Linen Included Free WiFi</td>\n",
       "      <td>At No.8 we take pride in our Customer Service ...</td>\n",
       "    </tr>\n",
       "    <tr>\n",
       "      <th>12</th>\n",
       "      <td>Astor Hyde Park</td>\n",
       "      <td>191 Queensgate, South Kensington, London, England</td>\n",
       "      <td>8.1</td>\n",
       "      <td>12368</td>\n",
       "      <td>Fabulous</td>\n",
       "      <td>Rs2506.28</td>\n",
       "      <td>Linen Included Free City Maps Free WiFi Free I...</td>\n",
       "      <td>Located in the most beautiful and charming nei...</td>\n",
       "    </tr>\n",
       "    <tr>\n",
       "      <th>13</th>\n",
       "      <td>Smart Russell Square Hostel</td>\n",
       "      <td>71 Guilford Street, London, England</td>\n",
       "      <td>7.5</td>\n",
       "      <td>10255</td>\n",
       "      <td>Very Good</td>\n",
       "      <td>Rs3132.85</td>\n",
       "      <td>Linen Included Free City Maps Free WiFi Free I...</td>\n",
       "      <td>Smart Hostels is proud to present our most cen...</td>\n",
       "    </tr>\n",
       "    <tr>\n",
       "      <th>14</th>\n",
       "      <td>Safestay London Kensington Holland Park</td>\n",
       "      <td>Holland Park Ave, Holland Walk, London, England</td>\n",
       "      <td>7.2</td>\n",
       "      <td>1842</td>\n",
       "      <td>Very Good</td>\n",
       "      <td>Rs1829.25</td>\n",
       "      <td>Linen Included Free WiFi</td>\n",
       "      <td>Safestay Holland Park\\n\\nSafestay Holland Park...</td>\n",
       "    </tr>\n",
       "    <tr>\n",
       "      <th>15</th>\n",
       "      <td>Queen Elizabeth Chelsea</td>\n",
       "      <td>58 Bagleys Lane, London, England</td>\n",
       "      <td>7.6</td>\n",
       "      <td>3750</td>\n",
       "      <td>Very Good</td>\n",
       "      <td>Rs2032.15</td>\n",
       "      <td>Linen Included Free City Maps Free WiFi Free I...</td>\n",
       "      <td>PLEASE NOTE WE ONLY ACCEPT GUESTS FROM THE AGE...</td>\n",
       "    </tr>\n",
       "    <tr>\n",
       "      <th>16</th>\n",
       "      <td>YHA London Oxford Street</td>\n",
       "      <td>14 Noel Street, Soho, W1F 8GJ, London, England</td>\n",
       "      <td>9.1</td>\n",
       "      <td>4718</td>\n",
       "      <td>Superb</td>\n",
       "      <td>Rs2175.12</td>\n",
       "      <td>Linen Included Free WiFi</td>\n",
       "      <td>A quiet hideaway from the bustle of the busies...</td>\n",
       "    </tr>\n",
       "    <tr>\n",
       "      <th>17</th>\n",
       "      <td>Astor Museum Inn</td>\n",
       "      <td>27 Montague Street, Bloomsbury, London, England</td>\n",
       "      <td>8.5</td>\n",
       "      <td>9489</td>\n",
       "      <td>Fabulous</td>\n",
       "      <td>Rs2416.92</td>\n",
       "      <td>Linen Included Free City Maps Free WiFi</td>\n",
       "      <td>With the British Museum literally on its doors...</td>\n",
       "    </tr>\n",
       "    <tr>\n",
       "      <th>18</th>\n",
       "      <td>Phoenix Hostel</td>\n",
       "      <td>6 Daventry Street, London, England</td>\n",
       "      <td>6.9</td>\n",
       "      <td>4675</td>\n",
       "      <td>Good</td>\n",
       "      <td>Rs2328.61</td>\n",
       "      <td>Linen Included Free City Maps Free WiFi Free I...</td>\n",
       "      <td>The Phoenix Bar &amp; Hostel, housed in a homely E...</td>\n",
       "    </tr>\n",
       "    <tr>\n",
       "      <th>19</th>\n",
       "      <td>Smart Hyde Park Inn Hostel</td>\n",
       "      <td>48 - 50 Inverness Terrace, Bayswater, London, ...</td>\n",
       "      <td>7.7</td>\n",
       "      <td>6826</td>\n",
       "      <td>Very Good</td>\n",
       "      <td>Rs2587.23</td>\n",
       "      <td>Linen Included Free City Maps Free WiFi Free I...</td>\n",
       "      <td>Smart Hyde Park Inn Hostel is perfectly locate...</td>\n",
       "    </tr>\n",
       "    <tr>\n",
       "      <th>20</th>\n",
       "      <td>Hostelle - women only hostel London</td>\n",
       "      <td>458 Bethnal Green road, London, England</td>\n",
       "      <td>8.7</td>\n",
       "      <td>152</td>\n",
       "      <td>Fabulous</td>\n",
       "      <td>Rs1963.81</td>\n",
       "      <td>Linen Included Free City Maps Free WiFi Free I...</td>\n",
       "      <td>Hostelle is the first and only all-women hoste...</td>\n",
       "    </tr>\n",
       "    <tr>\n",
       "      <th>21</th>\n",
       "      <td>YHA London Central</td>\n",
       "      <td>104-108 Bolsover St, London, England</td>\n",
       "      <td>8.9</td>\n",
       "      <td>4809</td>\n",
       "      <td>Fabulous</td>\n",
       "      <td>Rs2066.84</td>\n",
       "      <td>Linen Included Free City Maps Free WiFi</td>\n",
       "      <td>YHA London Central boasts seven floors of mode...</td>\n",
       "    </tr>\n",
       "    <tr>\n",
       "      <th>22</th>\n",
       "      <td>London Backpackers</td>\n",
       "      <td>8/10 Queens Parade, Queens Road, Hendon Centra...</td>\n",
       "      <td>8.1</td>\n",
       "      <td>4598</td>\n",
       "      <td>Fabulous</td>\n",
       "      <td>Rs2962.54</td>\n",
       "      <td>Linen Included Free City Maps Free WiFi Free I...</td>\n",
       "      <td>IMPORTANT NOTICE: \\n\\nThis hostel is for 18 - ...</td>\n",
       "    </tr>\n",
       "    <tr>\n",
       "      <th>23</th>\n",
       "      <td>St Christopher's Inn - London Bridge</td>\n",
       "      <td>121 Borough High Street, London, England</td>\n",
       "      <td>7.9</td>\n",
       "      <td>3631</td>\n",
       "      <td>Very Good</td>\n",
       "      <td>Rs3118.13</td>\n",
       "      <td>Linen Included Free City Maps Free WiFi Free I...</td>\n",
       "      <td>Base yourself in the electric area of London B...</td>\n",
       "    </tr>\n",
       "    <tr>\n",
       "      <th>24</th>\n",
       "      <td>Kabannas London St Pancras</td>\n",
       "      <td>79-81 Euston Road, London, England</td>\n",
       "      <td>8.3</td>\n",
       "      <td>3009</td>\n",
       "      <td>Fabulous</td>\n",
       "      <td>Rs2106.79</td>\n",
       "      <td>Linen Included Free City Maps Free WiFi</td>\n",
       "      <td>Located opposite Kings Cross/St Pancras Intern...</td>\n",
       "    </tr>\n",
       "    <tr>\n",
       "      <th>25</th>\n",
       "      <td>Barmy Badger Backpackers</td>\n",
       "      <td>17 Longridge Road, Earls Court, London, England</td>\n",
       "      <td>8.9</td>\n",
       "      <td>2056</td>\n",
       "      <td>Fabulous</td>\n",
       "      <td>Rs2341.23</td>\n",
       "      <td>Free Breakfast Linen Included Free City Maps F...</td>\n",
       "      <td>The Badger is unique for London in that we hav...</td>\n",
       "    </tr>\n",
       "    <tr>\n",
       "      <th>26</th>\n",
       "      <td>Smart Camden Inn Hostel</td>\n",
       "      <td>55/57 Bayham Street, Camden, London, England</td>\n",
       "      <td>8.6</td>\n",
       "      <td>3165</td>\n",
       "      <td>Fabulous</td>\n",
       "      <td>Rs1725.17</td>\n",
       "      <td>Linen Included Free City Maps Free WiFi</td>\n",
       "      <td>Located in the middle of Camden Town, we’re th...</td>\n",
       "    </tr>\n",
       "    <tr>\n",
       "      <th>27</th>\n",
       "      <td>St Christopher's Hammersmith</td>\n",
       "      <td>28, Hammersmith Broadway, Hammersmith, London,...</td>\n",
       "      <td>7.6</td>\n",
       "      <td>4432</td>\n",
       "      <td>Very Good</td>\n",
       "      <td>Rs1916.51</td>\n",
       "      <td>Linen Included Free City Maps Free WiFi Free I...</td>\n",
       "      <td>Located within walking distance of Hammersmith...</td>\n",
       "    </tr>\n",
       "    <tr>\n",
       "      <th>28</th>\n",
       "      <td>Astor Victoria</td>\n",
       "      <td>73 Belgrave Road, Victoria, London, England</td>\n",
       "      <td>7.4</td>\n",
       "      <td>15125</td>\n",
       "      <td>Very Good</td>\n",
       "      <td>Rs6954.30</td>\n",
       "      <td>Linen Included Free City Maps Free WiFi Free I...</td>\n",
       "      <td>With Victoria Station and Buckingham Palace a ...</td>\n",
       "    </tr>\n",
       "    <tr>\n",
       "      <th>29</th>\n",
       "      <td>Astor Kensington</td>\n",
       "      <td>45 Queensborough Terrace, Bayswater, London, E...</td>\n",
       "      <td>8.2</td>\n",
       "      <td>6608</td>\n",
       "      <td>Fabulous</td>\n",
       "      <td>Rs7727.00</td>\n",
       "      <td>Linen Included Free City Maps Free WiFi</td>\n",
       "      <td>Located a short walk from Notting Hill, Hyde P...</td>\n",
       "    </tr>\n",
       "  </tbody>\n",
       "</table>\n",
       "</div>"
      ],
      "text/plain": [
       "                                     Hostel  \\\n",
       "0               Wombat's City Hostel London   \n",
       "1             Palmers Lodge - Swiss Cottage   \n",
       "2                          NX London Hostel   \n",
       "3                      Urbany Hostel London   \n",
       "4                       Onefam Notting Hill   \n",
       "5                           Onefam Waterloo   \n",
       "6                          Generator London   \n",
       "7                  St Christopher's Village   \n",
       "8                                  Clink261   \n",
       "9                        No.8 Seven Sisters   \n",
       "10        Safestay London Elephant & Castle   \n",
       "11             No.8 Willesden Hostel London   \n",
       "12                          Astor Hyde Park   \n",
       "13              Smart Russell Square Hostel   \n",
       "14  Safestay London Kensington Holland Park   \n",
       "15                  Queen Elizabeth Chelsea   \n",
       "16                 YHA London Oxford Street   \n",
       "17                         Astor Museum Inn   \n",
       "18                           Phoenix Hostel   \n",
       "19               Smart Hyde Park Inn Hostel   \n",
       "20      Hostelle - women only hostel London   \n",
       "21                       YHA London Central   \n",
       "22                       London Backpackers   \n",
       "23     St Christopher's Inn - London Bridge   \n",
       "24               Kabannas London St Pancras   \n",
       "25                 Barmy Badger Backpackers   \n",
       "26                  Smart Camden Inn Hostel   \n",
       "27             St Christopher's Hammersmith   \n",
       "28                           Astor Victoria   \n",
       "29                         Astor Kensington   \n",
       "\n",
       "                                             Distance Ratings Total_review  \\\n",
       "0                      7 Dock Street, London, England     9.2        16222   \n",
       "1   40 College Crescent, Swiss Cottage, London, En...     8.7        16083   \n",
       "2                 323 New Cross Road, London, England     8.8         2278   \n",
       "3   48-49 Princes Square, Paddington, London, England     9.6         1197   \n",
       "4                 63 Prince's Square, London, England     9.6         2729   \n",
       "5            73 Lambeth Walk, London, London, England     9.6          251   \n",
       "6   Compton Place, Off 37 Tavistock Place, WC1, Lo...     7.5         8162   \n",
       "7            165 Borough High Street, London, England     7.6        12991   \n",
       "8   261-265 Grays Inn Road, Kings Cross, London, E...     8.3          583   \n",
       "9   618 Seven Sisters Rd, Seven Sisters, London, E...     7.8         4223   \n",
       "10             144-152 Walworth Road, London, England     7.6         5319   \n",
       "11            305 High Rd, Willesden, London, England     7.0         5240   \n",
       "12  191 Queensgate, South Kensington, London, England     8.1        12368   \n",
       "13                71 Guilford Street, London, England     7.5        10255   \n",
       "14    Holland Park Ave, Holland Walk, London, England     7.2         1842   \n",
       "15                   58 Bagleys Lane, London, England     7.6         3750   \n",
       "16     14 Noel Street, Soho, W1F 8GJ, London, England     9.1         4718   \n",
       "17    27 Montague Street, Bloomsbury, London, England     8.5         9489   \n",
       "18                 6 Daventry Street, London, England     6.9         4675   \n",
       "19  48 - 50 Inverness Terrace, Bayswater, London, ...     7.7         6826   \n",
       "20            458 Bethnal Green road, London, England     8.7          152   \n",
       "21               104-108 Bolsover St, London, England     8.9         4809   \n",
       "22  8/10 Queens Parade, Queens Road, Hendon Centra...     8.1         4598   \n",
       "23           121 Borough High Street, London, England     7.9         3631   \n",
       "24                 79-81 Euston Road, London, England     8.3         3009   \n",
       "25    17 Longridge Road, Earls Court, London, England     8.9         2056   \n",
       "26       55/57 Bayham Street, Camden, London, England     8.6         3165   \n",
       "27  28, Hammersmith Broadway, Hammersmith, London,...     7.6         4432   \n",
       "28        73 Belgrave Road, Victoria, London, England     7.4        15125   \n",
       "29  45 Queensborough Terrace, Bayswater, London, E...     8.2         6608   \n",
       "\n",
       "   Overall_review  Dorm_price  \\\n",
       "0          Superb  Rs28132.58   \n",
       "1        Fabulous  Rs35165.73   \n",
       "2        Fabulous   Rs4688.76   \n",
       "3          Superb   Rs5860.96   \n",
       "4          Superb   Rs2909.98   \n",
       "5          Superb   Rs3932.88   \n",
       "6       Very Good  Rs13482.82   \n",
       "7       Very Good  Rs17977.10   \n",
       "8        Fabulous   Rs2532.56   \n",
       "9       Very Good   Rs2979.36   \n",
       "10      Very Good  Rs11027.01   \n",
       "11      Very Good  Rs13783.49   \n",
       "12       Fabulous   Rs2506.28   \n",
       "13      Very Good   Rs3132.85   \n",
       "14      Very Good   Rs1829.25   \n",
       "15      Very Good   Rs2032.15   \n",
       "16         Superb   Rs2175.12   \n",
       "17       Fabulous   Rs2416.92   \n",
       "18           Good   Rs2328.61   \n",
       "19      Very Good   Rs2587.23   \n",
       "20       Fabulous   Rs1963.81   \n",
       "21       Fabulous   Rs2066.84   \n",
       "22       Fabulous   Rs2962.54   \n",
       "23      Very Good   Rs3118.13   \n",
       "24       Fabulous   Rs2106.79   \n",
       "25       Fabulous   Rs2341.23   \n",
       "26       Fabulous   Rs1725.17   \n",
       "27      Very Good   Rs1916.51   \n",
       "28      Very Good   Rs6954.30   \n",
       "29       Fabulous   Rs7727.00   \n",
       "\n",
       "                                             Facility  \\\n",
       "0   Linen Included Free City Maps Free WiFi Free I...   \n",
       "1       Linen Included Free WiFi Free Internet Access   \n",
       "2   Free Breakfast Linen Included Towels Included ...   \n",
       "3                            Linen Included Free WiFi   \n",
       "4       Linen Included Free WiFi Free Internet Access   \n",
       "5       Linen Included Free WiFi Free Internet Access   \n",
       "6   Linen Included Free City Maps Free WiFi Free I...   \n",
       "7   Linen Included Free City Maps Free WiFi Free I...   \n",
       "8             Linen Included Free City Maps Free WiFi   \n",
       "9                            Linen Included Free WiFi   \n",
       "10                           Linen Included Free WiFi   \n",
       "11                           Linen Included Free WiFi   \n",
       "12  Linen Included Free City Maps Free WiFi Free I...   \n",
       "13  Linen Included Free City Maps Free WiFi Free I...   \n",
       "14                           Linen Included Free WiFi   \n",
       "15  Linen Included Free City Maps Free WiFi Free I...   \n",
       "16                           Linen Included Free WiFi   \n",
       "17            Linen Included Free City Maps Free WiFi   \n",
       "18  Linen Included Free City Maps Free WiFi Free I...   \n",
       "19  Linen Included Free City Maps Free WiFi Free I...   \n",
       "20  Linen Included Free City Maps Free WiFi Free I...   \n",
       "21            Linen Included Free City Maps Free WiFi   \n",
       "22  Linen Included Free City Maps Free WiFi Free I...   \n",
       "23  Linen Included Free City Maps Free WiFi Free I...   \n",
       "24            Linen Included Free City Maps Free WiFi   \n",
       "25  Free Breakfast Linen Included Free City Maps F...   \n",
       "26            Linen Included Free City Maps Free WiFi   \n",
       "27  Linen Included Free City Maps Free WiFi Free I...   \n",
       "28  Linen Included Free City Maps Free WiFi Free I...   \n",
       "29            Linen Included Free City Maps Free WiFi   \n",
       "\n",
       "                                          Description  \n",
       "0   A safe haven in the middle of the metropolis: ...  \n",
       "1   Whether you're a backpacker, flash-packer or a...  \n",
       "2   Welcome to NX London Hostel!\\n\\nPLEASE READ IN...  \n",
       "3   Welcome to Urbany Hostel London! Ideal for the...  \n",
       "4   The perfect place for solo travelers to connec...  \n",
       "5   Come join us at our newest Onefam location in ...  \n",
       "6   Generator London is a design hotel-hostel loca...  \n",
       "7   St Christopher's Inn at The Village in London ...  \n",
       "8   Welcome to Clink261!\\n\\nClink261 is a comforta...  \n",
       "9   For Great Facilities, Comfort & Affordability ...  \n",
       "10  Safestay at Elephant & Castle is ideal if you ...  \n",
       "11  At No.8 we take pride in our Customer Service ...  \n",
       "12  Located in the most beautiful and charming nei...  \n",
       "13  Smart Hostels is proud to present our most cen...  \n",
       "14  Safestay Holland Park\\n\\nSafestay Holland Park...  \n",
       "15  PLEASE NOTE WE ONLY ACCEPT GUESTS FROM THE AGE...  \n",
       "16  A quiet hideaway from the bustle of the busies...  \n",
       "17  With the British Museum literally on its doors...  \n",
       "18  The Phoenix Bar & Hostel, housed in a homely E...  \n",
       "19  Smart Hyde Park Inn Hostel is perfectly locate...  \n",
       "20  Hostelle is the first and only all-women hoste...  \n",
       "21  YHA London Central boasts seven floors of mode...  \n",
       "22  IMPORTANT NOTICE: \\n\\nThis hostel is for 18 - ...  \n",
       "23  Base yourself in the electric area of London B...  \n",
       "24  Located opposite Kings Cross/St Pancras Intern...  \n",
       "25  The Badger is unique for London in that we hav...  \n",
       "26  Located in the middle of Camden Town, we’re th...  \n",
       "27  Located within walking distance of Hammersmith...  \n",
       "28  With Victoria Station and Buckingham Palace a ...  \n",
       "29  Located a short walk from Notting Hill, Hyde P...  "
      ]
     },
     "execution_count": 44,
     "metadata": {},
     "output_type": "execute_result"
    }
   ],
   "source": [
    "df=pd.DataFrame({'Hostel':hostel,'Distance':distance,'Ratings':rating,'Total_review':total_review,'Overall_review':overall_review,'Dorm_price':dorm_price,'Facility':facility,'Description':description})\n",
    "df"
   ]
  },
  {
   "cell_type": "code",
   "execution_count": null,
   "id": "93ed1737",
   "metadata": {},
   "outputs": [],
   "source": []
  }
 ],
 "metadata": {
  "kernelspec": {
   "display_name": "Python 3 (ipykernel)",
   "language": "python",
   "name": "python3"
  },
  "language_info": {
   "codemirror_mode": {
    "name": "ipython",
    "version": 3
   },
   "file_extension": ".py",
   "mimetype": "text/x-python",
   "name": "python",
   "nbconvert_exporter": "python",
   "pygments_lexer": "ipython3",
   "version": "3.11.5"
  }
 },
 "nbformat": 4,
 "nbformat_minor": 5
}
