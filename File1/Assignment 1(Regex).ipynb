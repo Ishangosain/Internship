{
 "cells": [
  {
   "cell_type": "code",
   "execution_count": 4,
   "id": "4f828686",
   "metadata": {},
   "outputs": [
    {
     "name": "stdout",
     "output_type": "stream",
     "text": [
      "Python:Exercises::PHP:exercises:\n"
     ]
    }
   ],
   "source": [
    "#Q1:-\n",
    "import regex as re\n",
    "target_string='Python Exercises, PHP exercises.'\n",
    "x=re.sub(r\"[ , .]\",\":\",target_string)\n",
    "print(x)"
   ]
  },
  {
   "cell_type": "code",
   "execution_count": 4,
   "id": "1aadf4f7",
   "metadata": {},
   "outputs": [
    {
     "name": "stdout",
     "output_type": "stream",
     "text": [
      "         SUMMARY\n",
      "0    hello world\n",
      "1     XXXXX test\n",
      "2  four five six\n"
     ]
    }
   ],
   "source": [
    "#Q2:-\n",
    "import pandas as pd\n",
    "import regex as re\n",
    "item={'SUMMARY' : ['hello, world!', 'XXXXX test', '123four, five:; six...']}\n",
    "df=pd.DataFrame(item)\n",
    "df['SUMMARY'] = df['SUMMARY'].str.replace('[^a-zA-Z\\s]', '', regex=True)\n",
    "print(df)"
   ]
  },
  {
   "cell_type": "code",
   "execution_count": 8,
   "id": "a431f85a",
   "metadata": {},
   "outputs": [
    {
     "name": "stdout",
     "output_type": "stream",
     "text": [
      "['Chandrayaan', 'third', 'mission', 'Chandrayaan', 'programme', 'series', 'lunar', 'exploration', 'missions', 'developed', 'Indian', 'Space', 'Research', 'Organisation', 'mission', 'consists', 'lunar', 'lander', 'named', 'Vikram', 'lunar', 'rover', 'named', 'Pragyan', 'similar', 'those', 'launched', 'aboard', 'Chandrayaan', '2019']\n"
     ]
    }
   ],
   "source": [
    "#Q3:-\n",
    "str1=\"\"\"Chandrayaan-3 is the third mission in the Chandrayaan programme, a series of lunar-exploration missions \n",
    "developed by the Indian Space Research Organisation. The mission consists of a lunar \n",
    "lander named Vikram and a lunar rover named Pragyan, similar to those launched aboard Chandrayaan-2 in 2019.\"\"\"\n",
    "string_pattern=r\"\\w{4,}\"\n",
    "regex_pattern=re.compile(string_pattern)\n",
    "result=regex_pattern.findall(str1)\n",
    "print(result)"
   ]
  },
  {
   "cell_type": "code",
   "execution_count": 11,
   "id": "d394fabd",
   "metadata": {},
   "outputs": [
    {
     "name": "stdout",
     "output_type": "stream",
     "text": [
      "['Janni', 'Sinne', 'Grand', 'Slam', 'champ', 'ion', 'The', 'world', 'clinc', 'hed', 'the', 'Austr', 'alian', 'Open', '2024', 'men', 'singl', 'title', 'stunn', 'ing', 'fashi', 'overc', 'oming', 'third', 'seed', 'Danii', 'Medve', 'dev', 'three', 'hours', 'and', 'minut', 'Sunda', 'night', 'Rod', 'Laver', 'Arena']\n"
     ]
    }
   ],
   "source": [
    "#Q4:-\n",
    "str1=\"\"\"Jannik Sinner is a Grand Slam champion. The world No.4 clinched the Australian Open 2024 men's singles title in \n",
    "stunning fashion, overcoming third seed Daniil Medvedev 3-6 3-6 6-4 6-4 6-3 in three hours and 44 minutes on Sunday night at \n",
    "Rod Laver Arena.\"\"\"\n",
    "string_pattern=r\"\\w{3,5}\"\n",
    "regex_pattern=re.compile(string_pattern)\n",
    "result=regex_pattern.findall(str1)\n",
    "print(result)"
   ]
  },
  {
   "cell_type": "code",
   "execution_count": 21,
   "id": "afa2f985",
   "metadata": {},
   "outputs": [
    {
     "name": "stdout",
     "output_type": "stream",
     "text": [
      "['example (.com)']\n"
     ]
    }
   ],
   "source": [
    "#Q5\n",
    "import re\n",
    "def remove_parentheses(strings):\n",
    "    pattern = re.compile(r\"\\s*\\[()]*\")\n",
    "    modified_strings = []\n",
    "    for string in strings:\n",
    "        modified_string = re.sub(pattern,\"\", string)\n",
    "        modified_strings.append(modified_string)\n",
    "        return modified_strings\n",
    "sample_text = [\"example (.com)\", \"hr@fliprobo (.com)\", \"github (.com)\", \"Hello (Data Science World)\", \"Data (Scientist)\"]\n",
    "result = remove_parentheses(sample_text)\n",
    "print(result)"
   ]
  },
  {
   "cell_type": "code",
   "execution_count": 9,
   "id": "934dca12",
   "metadata": {},
   "outputs": [
    {
     "name": "stdout",
     "output_type": "stream",
     "text": [
      "[\"example\", \"hr@fliprobo\", \"github\", \"Hello\", \"Data\"]\n"
     ]
    }
   ],
   "source": [
    "#Q6:-\n",
    "f=open('C:\\\\Users\\\\ḥ\\\\OneDrive\\\\Desktop\\\\q6.txt', 'r')\n",
    "text = f.read()\n",
    "new_text = re.sub(r\"\\s*\\([^)]*\\)\", \"\", text)\n",
    "print(new_text)"
   ]
  },
  {
   "cell_type": "code",
   "execution_count": 14,
   "id": "f1739275",
   "metadata": {},
   "outputs": [
    {
     "name": "stdout",
     "output_type": "stream",
     "text": [
      "['Importance', 'Of', 'Regular', 'Expressions', 'In', 'Python']\n"
     ]
    }
   ],
   "source": [
    "#Q7:-\n",
    "string_pattern=\"ImportanceOfRegularExpressionsInPython\"\n",
    "result=(re.findall('[A-Z][^A-Z]*',string_pattern))\n",
    "print(result)"
   ]
  },
  {
   "cell_type": "code",
   "execution_count": 56,
   "id": "f260bd34",
   "metadata": {},
   "outputs": [
    {
     "name": "stdout",
     "output_type": "stream",
     "text": [
      "RegularExpression1 IsAn2 ImportantTopic3 InPython\n"
     ]
    }
   ],
   "source": [
    "#Q8:-\n",
    "def space(str1):\n",
    "  pattern = r'(\\d+)([A-Za-z]+)'\n",
    "  result=re.sub(pattern, r'\\1 \\2', text)\n",
    "  return result\n",
    "str1=\"RegularExpression1IsAn2ImportantTopic3InPython\"\n",
    "x=space(text)\n",
    "print(x)"
   ]
  },
  {
   "cell_type": "code",
   "execution_count": 11,
   "id": "4dfdf628",
   "metadata": {},
   "outputs": [
    {
     "name": "stdout",
     "output_type": "stream",
     "text": [
      "RegularExpression1 IsAn2 ImportantTopic3 InPython\n"
     ]
    }
   ],
   "source": [
    "#Q9:-\n",
    "import re\n",
    "def insert_spaces(text):\n",
    "  pattern = r'([A-Za-z])([0-9])'\n",
    "  result = re.sub(pattern, r'\\1\\2 ', text)\n",
    "  result = result.strip()\n",
    "  return result\n",
    "sample_text =\"RegularExpression1IsAn2ImportantTopic3InPython\"\n",
    "output = insert_spaces(sample_text)\n",
    "print(output)"
   ]
  },
  {
   "cell_type": "code",
   "execution_count": 19,
   "id": "ba2a6a2f",
   "metadata": {},
   "outputs": [],
   "source": [
    "#Q10:-\n",
    "import pandas as pd\n",
    "import regex as re\n",
    "url = \"https://raw.githubusercontent.com/dsrscientist/DSData/master/happiness_score_dataset.csv\"\n",
    "df = pd.read_csv(url)\n",
    "df['first_five_letters'] = df['Country'].apply(lambda x: x[:6])\n",
    "df.head()"
   ]
  },
  {
   "cell_type": "code",
   "execution_count": 44,
   "id": "7a988453",
   "metadata": {},
   "outputs": [
    {
     "name": "stdout",
     "output_type": "stream",
     "text": [
      "Found a match!\n"
     ]
    }
   ],
   "source": [
    "#Q11:-\n",
    "import re\n",
    "def matches(str1):\n",
    "        patterns = '^[a-zA-Z0-9_]*$'\n",
    "        if re.search(patterns,str1):\n",
    "                return 'Found a match!'\n",
    "        else:\n",
    "                return('Not matched!')\n",
    "\n",
    "print(matches(\"IshanGosain__w99\"))"
   ]
  },
  {
   "cell_type": "code",
   "execution_count": 54,
   "id": "95c7aaa7",
   "metadata": {},
   "outputs": [
    {
     "name": "stdout",
     "output_type": "stream",
     "text": [
      "False\n"
     ]
    }
   ],
   "source": [
    "#12:-\n",
    "def num(string, number):\n",
    "    if string.startswith(str(number)):\n",
    "        return True\n",
    "    else:\n",
    "        return False\n",
    "str1 = \"a232abc\"\n",
    "number1 = 232\n",
    "print(starts_with_number(str1, number1))"
   ]
  },
  {
   "cell_type": "code",
   "execution_count": 64,
   "id": "4a65c81b",
   "metadata": {},
   "outputs": [
    {
     "name": "stdout",
     "output_type": "stream",
     "text": [
      "192.8.95.198\n"
     ]
    }
   ],
   "source": [
    "#13:-\n",
    "ip = \"192.08.095.198\"\n",
    "x= re.sub('\\.[0]*', '.', ip)\n",
    "print(x)"
   ]
  },
  {
   "cell_type": "code",
   "execution_count": 44,
   "id": "0d072d4e",
   "metadata": {},
   "outputs": [
    {
     "ename": "UnsupportedOperation",
     "evalue": "not writable",
     "output_type": "error",
     "traceback": [
      "\u001b[1;31m---------------------------------------------------------------------------\u001b[0m",
      "\u001b[1;31mUnsupportedOperation\u001b[0m                      Traceback (most recent call last)",
      "Cell \u001b[1;32mIn[44], line 8\u001b[0m\n\u001b[0;32m      6\u001b[0m modified_text \u001b[38;5;241m=\u001b[39m re\u001b[38;5;241m.\u001b[39msub(\u001b[38;5;124mr\u001b[39m\u001b[38;5;124m'\u001b[39m\u001b[38;5;124m\\\u001b[39m\u001b[38;5;124m([^()]*\u001b[39m\u001b[38;5;124m\\\u001b[39m\u001b[38;5;124m)\u001b[39m\u001b[38;5;124m'\u001b[39m, \u001b[38;5;124m'\u001b[39m\u001b[38;5;124m'\u001b[39m, text)\n\u001b[0;32m      7\u001b[0m \u001b[38;5;28;01mwith\u001b[39;00m \u001b[38;5;28mopen\u001b[39m(\u001b[38;5;124m\"\u001b[39m\u001b[38;5;124mC:\u001b[39m\u001b[38;5;130;01m\\\\\u001b[39;00m\u001b[38;5;124mUsers\u001b[39m\u001b[38;5;130;01m\\\\\u001b[39;00m\u001b[38;5;124mḥ\u001b[39m\u001b[38;5;130;01m\\\\\u001b[39;00m\u001b[38;5;124mOneDrive\u001b[39m\u001b[38;5;130;01m\\\\\u001b[39;00m\u001b[38;5;124mDesktop\u001b[39m\u001b[38;5;130;01m\\\\\u001b[39;00m\u001b[38;5;124msample14.txt\u001b[39m\u001b[38;5;124m\"\u001b[39m) \u001b[38;5;28;01mas\u001b[39;00m file:\n\u001b[1;32m----> 8\u001b[0m     file\u001b[38;5;241m.\u001b[39mwrite(modified_text)\n",
      "\u001b[1;31mUnsupportedOperation\u001b[0m: not writable"
     ]
    }
   ],
   "source": [
    "#14:-\n",
    "import pandas as pd\n",
    "import regex as re\n",
    "f=open(\"C:\\\\Users\\\\ḥ\\\\OneDrive\\\\Desktop\\\\sample14.txt\", 'r')\n",
    "text = f.read()\n",
    "modified_text = re.sub(r'\\([^()]*\\)', '', text)\n",
    "with open(\"C:\\\\Users\\\\ḥ\\\\OneDrive\\\\Desktop\\\\sample14.txt\") as file:\n",
    "    file.write(modified_text)"
   ]
  },
  {
   "cell_type": "code",
   "execution_count": 72,
   "id": "2522e435",
   "metadata": {},
   "outputs": [
    {
     "name": "stdout",
     "output_type": "stream",
     "text": [
      "Searching for \"fox\" in \"The quick brown fox jumps over the lazy dog.\" ->\n",
      "Matched!\n",
      "Searching for \"dog\" in \"The quick brown fox jumps over the lazy dog.\" ->\n",
      "Matched!\n",
      "Searching for \"horse\" in \"The quick brown fox jumps over the lazy dog.\" ->\n",
      "Not Matched!\n"
     ]
    }
   ],
   "source": [
    "#15:-\n",
    "patterns = [ 'fox', 'dog', 'horse' ]\n",
    "str1= 'The quick brown fox jumps over the lazy dog.'\n",
    "for pattern in patterns:\n",
    "    print('Searching for \"%s\" in \"%s\" ->' % (pattern, str1),)\n",
    "    if re.search(pattern,  text):\n",
    "        print('Matched!')\n",
    "    else:\n",
    "        print('Not Matched!')"
   ]
  },
  {
   "cell_type": "code",
   "execution_count": 80,
   "id": "35affd55",
   "metadata": {},
   "outputs": [
    {
     "name": "stdout",
     "output_type": "stream",
     "text": [
      "Found \"fox\" in \"The quick brown fox jumps over the lazy dog.\" from 16 to 19 \n"
     ]
    }
   ],
   "source": [
    "#Q16:-\n",
    "pattern = 'fox'\n",
    "str1= 'The quick brown fox jumps over the lazy dog.'\n",
    "match = re.search(pattern, str1)\n",
    "st = match.start()\n",
    "en = match.end()\n",
    "print('Found \"%s\" in \"%s\" from %d to %d ' % \\\n",
    "    (match.re.pattern, match.string, st, en))"
   ]
  },
  {
   "cell_type": "code",
   "execution_count": 82,
   "id": "11974461",
   "metadata": {},
   "outputs": [
    {
     "name": "stdout",
     "output_type": "stream",
     "text": [
      "Found \"langauge\"\n"
     ]
    }
   ],
   "source": [
    "#Q17:-\n",
    "str1 = ' C# language, Python language, PHP langauge, Java language'\n",
    "pattern = 'langauge'\n",
    "for match in re.findall(pattern, str1):\n",
    "    print('Found \"%s\"' % match)"
   ]
  },
  {
   "cell_type": "code",
   "execution_count": 89,
   "id": "404081cb",
   "metadata": {},
   "outputs": [
    {
     "name": "stdout",
     "output_type": "stream",
     "text": [
      "Found \"language\" at 3:11\n",
      "Found \"language\" at 20:28\n",
      "Found \"language\" at 49:57\n"
     ]
    }
   ],
   "source": [
    "#Q18:-\n",
    "lan = 'C# language, Python language, PHP langauge, Java language'\n",
    "pattern = 'language'\n",
    "for match in re.finditer(pattern, lan):\n",
    "    st = match.start()\n",
    "    en = match.end()\n",
    "    print('Found \"%s\" at %d:%d' % (lan[s:e], st, en))"
   ]
  },
  {
   "cell_type": "code",
   "execution_count": 95,
   "id": "9ad847e3",
   "metadata": {},
   "outputs": [
    {
     "name": "stdout",
     "output_type": "stream",
     "text": [
      "Original date in YYY-MM-DD Format:  2001-08-10\n",
      "New date in DD-MM-YYYY Format:  10-08-2001\n"
     ]
    }
   ],
   "source": [
    "#Q19:-\n",
    "def date(dt):\n",
    "        return re.sub(r'(\\d{4})-(\\d{1,2})-(\\d{1,2})', '\\\\3-\\\\2-\\\\1', dt)\n",
    "dt1 = \"2001-08-10\"\n",
    "print(\"Original date in YYY-MM-DD Format: \",dt1)\n",
    "print(\"New date in DD-MM-YYYY Format: \",date(dt1))"
   ]
  },
  {
   "cell_type": "code",
   "execution_count": 102,
   "id": "e362be95",
   "metadata": {},
   "outputs": [
    {
     "name": "stdout",
     "output_type": "stream",
     "text": [
      "['01.12', '0132.13', '22.31', '145.89', '3.01', '27.25', '0.24']\n"
     ]
    }
   ],
   "source": [
    "#Q20:-\n",
    "def decimal(string):\n",
    "  pattern = re.compile(r'\\d+\\.\\d{1,2}')\n",
    "  decimal_numbers = re.findall(pattern, string)\n",
    "  return decimal_numbers\n",
    "str1 = \"01.12 0132.1322.31875 145.898 3.01 27.25 0.2459\"\n",
    "output = find_decimal_numbers(str1)\n",
    "print(output)"
   ]
  },
  {
   "cell_type": "code",
   "execution_count": 106,
   "id": "77d57474",
   "metadata": {},
   "outputs": [
    {
     "name": "stdout",
     "output_type": "stream",
     "text": [
      "989\n",
      "Index position: 23\n",
      "9897\n",
      "Index position: 35\n",
      "545\n",
      "Index position: 95\n"
     ]
    }
   ],
   "source": [
    "#Q21:-\n",
    "str1= \"Sport is commonly defin989ed as an 9897 athletic activity that involves a degree of competition545, such as netball or basketball or cross-country Olympic skiing\"\n",
    "\n",
    "for m in re.finditer(\"\\d+\", str1):\n",
    "    print(m.group(0))\n",
    "    print(\"Index position:\", m.start())"
   ]
  },
  {
   "cell_type": "code",
   "execution_count": 107,
   "id": "a1795402",
   "metadata": {},
   "outputs": [
    {
     "name": "stdout",
     "output_type": "stream",
     "text": [
      "Max_value: 950\n"
     ]
    }
   ],
   "source": [
    "#Q22:-\n",
    "str1='My marks in each semester are: 947, 896, 926, 524, 734, 950, 642'\n",
    "number = re.findall('\\d+', str1)\n",
    "number = map(int, number)\n",
    "print(\"Max_value:\",max(number))"
   ]
  },
  {
   "cell_type": "code",
   "execution_count": 109,
   "id": "a4f9a28e",
   "metadata": {},
   "outputs": [
    {
     "name": "stdout",
     "output_type": "stream",
     "text": [
      "Regular Expression Is An Important Topic In Python\n"
     ]
    }
   ],
   "source": [
    "#Q23:-\n",
    "def capspace(str1):\n",
    "  return re.sub(r\"(\\w)([A-Z])\", r\"\\1 \\2\", str1)\n",
    "\n",
    "print(capspace(\"RegularExpressionIsAnImportantTopicInPython\"))"
   ]
  },
  {
   "cell_type": "code",
   "execution_count": 117,
   "id": "33cff3d9",
   "metadata": {},
   "outputs": [
    {
     "name": "stdout",
     "output_type": "stream",
     "text": [
      "Found a match!\n"
     ]
    }
   ],
   "source": [
    "#Q24:-\n",
    "def matched(str1):\n",
    "        patterns = '[A-Z]+[a-z]+$'\n",
    "        if re.search(patterns, str1):\n",
    "                return 'Found a match!'\n",
    "        else:\n",
    "                return('Not matched!')\n",
    "print(matched(\"Ishangosain\"))"
   ]
  },
  {
   "cell_type": "code",
   "execution_count": 126,
   "id": "8d0a6603",
   "metadata": {},
   "outputs": [
    {
     "name": "stdout",
     "output_type": "stream",
     "text": [
      "this This is Ishan Gosain Hello hello world \n"
     ]
    }
   ],
   "source": [
    "#Q25:-\n",
    "def duplicates(str1):\n",
    "  pattern = r'\\b(\\w+)(\\s+\\1\\b)+'\n",
    "  result = re.sub(pattern, r'\\1', str1)\n",
    "  return result\n",
    "str1= \"this This is is Ishan Gosain Gosain Hello hello world world \"\n",
    "output = duplicates(str1)\n",
    "print(output)"
   ]
  },
  {
   "cell_type": "code",
   "execution_count": 5,
   "id": "a2f5d730",
   "metadata": {},
   "outputs": [
    {
     "name": "stdout",
     "output_type": "stream",
     "text": [
      "Discard\n",
      "Accept\n"
     ]
    }
   ],
   "source": [
    "#Q26:-\n",
    "import re\n",
    "pattern = '[a-zA-Z0-9]$'\n",
    "def check(string): \n",
    "    if(re.search(pattern,str1)):\n",
    "        print(\"Accept\") \n",
    "    else: \n",
    "        print(\"Discard\") \n",
    "if __name__ == '__main__' : \n",
    "    str1 = \"ishangosian9@\"\n",
    "    check(string)\n",
    "    str1 = \"ishangosian9\"\n",
    "    check(string)"
   ]
  },
  {
   "cell_type": "code",
   "execution_count": 6,
   "id": "ed38317e",
   "metadata": {},
   "outputs": [
    {
     "name": "stdout",
     "output_type": "stream",
     "text": [
      "['#Doltiwal', '#xyzabc', '#Demonetization']\n"
     ]
    }
   ],
   "source": [
    "#Q27:-\n",
    "pattern=\"#\\w+\"\n",
    "text=\"\"\"RT @kapil_kausik: #Doltiwal I mean #xyzabc is \"hurt\" by #Demonetization \n",
    "as the same has rendered USELESS <ed><U+00A0><U+00BD><ed><U+00B1><U+0089> \"acquired funds\" No wo\"\"\"\n",
    "matches=re.findall(pattern,text)\n",
    "print(matches)\n"
   ]
  },
  {
   "cell_type": "code",
   "execution_count": 18,
   "id": "57ccf20c",
   "metadata": {},
   "outputs": [
    {
     "name": "stdout",
     "output_type": "stream",
     "text": [
      "\"@Jags123456 Bharat band on 28??<ed><ed>Those who are protesting #demonetization \n",
      "    are all different party leaders\n"
     ]
    }
   ],
   "source": [
    "#Q28:-\n",
    "pattern=\"<U\\+\\w{4}>\"\n",
    "str1=\"\"\"\"@Jags123456 Bharat band on 28??<ed><U+00A0><U+00BD><ed><U+00B8><U+0082>Those who are protesting #demonetization \n",
    "    are all different party leaders\"\"\"  \n",
    "y=re.sub(pattern,\"\",str1)\n",
    "print(y)\n"
   ]
  },
  {
   "cell_type": "code",
   "execution_count": 38,
   "id": "3b7c346d",
   "metadata": {},
   "outputs": [
    {
     "name": "stdout",
     "output_type": "stream",
     "text": [
      "['12-09-1992', '15-12-1999']\n"
     ]
    }
   ],
   "source": [
    "#Q29:-\n",
    "file = open(\"C:\\\\Users\\\\ḥ\\\\OneDrive\\\\Desktop\\\\sample14.txt\",'r')\n",
    "str1= file.read()\n",
    "matches = re.findall(\"\\d{2}[/-]\\d{2}[/-]\\d{4}\",str1)\n",
    "print(matches)"
   ]
  },
  {
   "cell_type": "code",
   "execution_count": 27,
   "id": "7acc39de",
   "metadata": {},
   "outputs": [
    {
     "name": "stdout",
     "output_type": "stream",
     "text": [
      " following example creates  ArrayList  a capacity   elements. 4 elements   added   ArrayList   ArrayList  trimmed accordingly.\n"
     ]
    }
   ],
   "source": [
    "#Q30:-\n",
    "def words(string):\n",
    "    pattern = re.compile(r'\\b\\w{2,4}\\b')\n",
    "    modified_string = re.sub(pattern, '', string)\n",
    "    return modified_string\n",
    "str1 = \"The following example creates an ArrayList with a capacity of 50 elements. 4 elements are then added to the ArrayList and the ArrayList is trimmed accordingly.\"\n",
    "output = words(str1)\n",
    "print(output)"
   ]
  }
 ],
 "metadata": {
  "kernelspec": {
   "display_name": "Python 3 (ipykernel)",
   "language": "python",
   "name": "python3"
  },
  "language_info": {
   "codemirror_mode": {
    "name": "ipython",
    "version": 3
   },
   "file_extension": ".py",
   "mimetype": "text/x-python",
   "name": "python",
   "nbconvert_exporter": "python",
   "pygments_lexer": "ipython3",
   "version": "3.11.5"
  }
 },
 "nbformat": 4,
 "nbformat_minor": 5
}
