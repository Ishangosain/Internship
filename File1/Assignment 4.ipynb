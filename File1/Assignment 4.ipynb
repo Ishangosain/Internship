{
 "cells": [
  {
   "cell_type": "code",
   "execution_count": 1,
   "id": "e6f17d14",
   "metadata": {},
   "outputs": [
    {
     "name": "stdout",
     "output_type": "stream",
     "text": [
      "Requirement already satisfied: selenium in c:\\anaconda\\lib\\site-packages (4.18.1)\n",
      "Requirement already satisfied: urllib3[socks]<3,>=1.26 in c:\\anaconda\\lib\\site-packages (from selenium) (1.26.16)\n",
      "Requirement already satisfied: trio~=0.17 in c:\\anaconda\\lib\\site-packages (from selenium) (0.24.0)\n",
      "Requirement already satisfied: trio-websocket~=0.9 in c:\\anaconda\\lib\\site-packages (from selenium) (0.11.1)\n",
      "Requirement already satisfied: certifi>=2021.10.8 in c:\\anaconda\\lib\\site-packages (from selenium) (2023.11.17)\n",
      "Requirement already satisfied: typing_extensions>=4.9.0 in c:\\anaconda\\lib\\site-packages (from selenium) (4.10.0)\n",
      "Requirement already satisfied: attrs>=20.1.0 in c:\\anaconda\\lib\\site-packages (from trio~=0.17->selenium) (22.1.0)\n",
      "Requirement already satisfied: sortedcontainers in c:\\anaconda\\lib\\site-packages (from trio~=0.17->selenium) (2.4.0)\n",
      "Requirement already satisfied: idna in c:\\anaconda\\lib\\site-packages (from trio~=0.17->selenium) (3.4)\n",
      "Requirement already satisfied: outcome in c:\\anaconda\\lib\\site-packages (from trio~=0.17->selenium) (1.3.0.post0)\n",
      "Requirement already satisfied: sniffio>=1.3.0 in c:\\anaconda\\lib\\site-packages (from trio~=0.17->selenium) (1.3.1)\n",
      "Requirement already satisfied: cffi>=1.14 in c:\\anaconda\\lib\\site-packages (from trio~=0.17->selenium) (1.15.1)\n",
      "Requirement already satisfied: wsproto>=0.14 in c:\\anaconda\\lib\\site-packages (from trio-websocket~=0.9->selenium) (1.2.0)\n",
      "Requirement already satisfied: PySocks!=1.5.7,<2.0,>=1.5.6 in c:\\anaconda\\lib\\site-packages (from urllib3[socks]<3,>=1.26->selenium) (1.7.1)\n",
      "Requirement already satisfied: pycparser in c:\\anaconda\\lib\\site-packages (from cffi>=1.14->trio~=0.17->selenium) (2.21)\n",
      "Requirement already satisfied: h11<1,>=0.9.0 in c:\\anaconda\\lib\\site-packages (from wsproto>=0.14->trio-websocket~=0.9->selenium) (0.14.0)\n"
     ]
    }
   ],
   "source": [
    "#1. Scrape the details of most viewed videos on YouTube from Wikipedia. Url = https://en.wikipedia.org/wiki/List_of_most-viewed_YouTube_videos You need to find following details: \n",
    "#A) Rank B) Name C) Artist D) Upload date E) Views \n",
    "\n",
    "!pip install selenium"
   ]
  },
  {
   "cell_type": "code",
   "execution_count": 2,
   "id": "e96b0dd7",
   "metadata": {},
   "outputs": [],
   "source": [
    "import selenium \n",
    "import pandas as pd\n",
    "from selenium import webdriver\n",
    "import warnings\n",
    "warnings.filterwarnings('ignore')\n",
    "from selenium.webdriver.common.by import By\n",
    "import time"
   ]
  },
  {
   "cell_type": "code",
   "execution_count": null,
   "id": "3af83b2d",
   "metadata": {},
   "outputs": [],
   "source": [
    "driver=webdriver.Chrome()\n",
    "time.sleep(1)\n",
    "\n",
    "url='https://en.wikipedia.org/wiki/List_of_most-viewed_YouTube_videos'\n",
    "driver.get(url)\n",
    "time.sleep(2)"
   ]
  },
  {
   "cell_type": "code",
   "execution_count": null,
   "id": "b205af32",
   "metadata": {},
   "outputs": [],
   "source": [
    "#Rank =[]\n",
    "Name =[]\n",
    "Artist =[]\n",
    "Upload_date=[]\n",
    "Views=[]"
   ]
  },
  {
   "cell_type": "code",
   "execution_count": null,
   "id": "055f1f35",
   "metadata": {},
   "outputs": [],
   "source": [
    "    \n",
    "    \n",
    "try:\n",
    "    name_tags= driver.find_elements(By.XPATH,'//table[@class=\"wikitable sortable jquery-tablesorter\"][1]/tbody/tr/td[1]')\n",
    "    for i in name_tags:\n",
    "        Name.append(i.text)\n",
    "        \n",
    "except NoSuchElementException:\n",
    "    Name.append('No Details')\n",
    "    \n",
    "try:\n",
    "    artist_tags= driver.find_elements(By.XPATH,'//table[@class=\"wikitable sortable jquery-tablesorter\"][1]/tbody/tr/td[2]')\n",
    "    for i in artist_tags:\n",
    "        Artist.append(i.text)\n",
    "except NoSuchElementException:\n",
    "    Artist.append('No Details')\n",
    "    \n",
    "try:\n",
    "    upload_tags= driver.find_elements(By.XPATH,'//table[@class=\"wikitable sortable jquery-tablesorter\"][1]/tbody/tr/td[4]')\n",
    "    for i in upload_tags:\n",
    "        Upload_date.append(i.text)\n",
    "        \n",
    "except NoSuchElementException:\n",
    "    Upload.append('No Details')\n",
    "try:\n",
    "    views_tags= driver.find_elements(By.XPATH,'//table[@class=\"wikitable sortable jquery-tablesorter\"][1]/tbody/tr/td[3]')\n",
    "    for i in views_tags:\n",
    "        Views.append(i.text)\n",
    "        \n",
    "except NoSuchElementException:\n",
    "    Views.append('No Details')\n"
   ]
  },
  {
   "cell_type": "code",
   "execution_count": null,
   "id": "69e27c8c",
   "metadata": {},
   "outputs": [],
   "source": [
    "df=pd.DataFrame({'Name':Name,'Artist':Artist,'Upload Date':Upload_date,'Views':Views})\n",
    "df"
   ]
  },
  {
   "cell_type": "code",
   "execution_count": null,
   "id": "52097b7f",
   "metadata": {},
   "outputs": [],
   "source": []
  },
  {
   "cell_type": "code",
   "execution_count": null,
   "id": "d675436c",
   "metadata": {},
   "outputs": [],
   "source": [
    "#Q2. Scrape the details team India’s international fixtures from bcci.tv. \n",
    "#Url = https://www.bcci.tv/. You need to find following details: A) Series B) Place C) Date D) Time\n",
    "\n",
    "import selenium\n",
    "import pandas as pd\n",
    "from selenium import webdriver\n",
    "import warnings\n",
    "warnings.filterwarnings('ignore')\n",
    "from selenium.common.exceptions import StaleElementReferenceException, NoSuchElementException\n",
    "from selenium.webdriver.common.by import By\n",
    "\n",
    "import time"
   ]
  },
  {
   "cell_type": "code",
   "execution_count": null,
   "id": "28478209",
   "metadata": {},
   "outputs": [],
   "source": [
    "driver=webdriver.Chrome()"
   ]
  },
  {
   "cell_type": "code",
   "execution_count": null,
   "id": "ceef96f1",
   "metadata": {},
   "outputs": [],
   "source": [
    "driver.get(\"http://www.bcci.tv/\")\n"
   ]
  },
  {
   "cell_type": "code",
   "execution_count": null,
   "id": "7e1e40f4",
   "metadata": {},
   "outputs": [],
   "source": [
    "international_fixture=driver.find_element(By.XPATH,\"/html/body/header/div[3]/div[2]/ul/div[1]/a[2]\")\n",
    "driver.get(international_fixture.get_attribute('href'))\n"
   ]
  },
  {
   "cell_type": "code",
   "execution_count": null,
   "id": "74e0fda5",
   "metadata": {},
   "outputs": [],
   "source": [
    "Series=[]\n",
    "Place=[] \n",
    "Date=[] \n",
    "Time=[]"
   ]
  },
  {
   "cell_type": "code",
   "execution_count": null,
   "id": "ae8948f6",
   "metadata": {},
   "outputs": [],
   "source": [
    "series = driver.find_elements(By.XPATH,'//h5[@class=\"match-tournament-name ng-binding\"]')\n",
    "for i in series:\n",
    "    Series.append(i.text)\n",
    "\n",
    "place = driver.find_elements(By.XPATH,'//div[@class=\"match-place ng-scope\"]/span[2]')\n",
    "for i in place:\n",
    "    Place.append(i.text)\n",
    "\n",
    "date = driver.find_elements(By.XPATH,'//div[@class=\"match-dates ng-binding\"]')\n",
    "for i in date:\n",
    "    Date.append(i.text)\n",
    "\n",
    "time = driver.find_elements(By.XPATH,'//div[@class=\"match-time no-margin ng-binding\"]')\n",
    "for i in time:\n",
    "    Time.append(i.text)"
   ]
  },
  {
   "cell_type": "code",
   "execution_count": null,
   "id": "cd3038ae",
   "metadata": {},
   "outputs": [],
   "source": [
    "print(len(Series),len(Place),len(Date),len(Time))"
   ]
  },
  {
   "cell_type": "code",
   "execution_count": null,
   "id": "b2284e77",
   "metadata": {},
   "outputs": [],
   "source": [
    "import pandas as pd\n",
    "df=pd.DataFrame({'Series':Series,'Place':Place,'Date':Date,'Time':Time})\n",
    "df"
   ]
  },
  {
   "cell_type": "code",
   "execution_count": null,
   "id": "4583522f",
   "metadata": {},
   "outputs": [],
   "source": []
  },
  {
   "cell_type": "code",
   "execution_count": null,
   "id": "665b521c",
   "metadata": {},
   "outputs": [],
   "source": [
    "#Q3)Scrape the details of State-wise GDP of India from statisticstime.com.Url = http://statisticstimes.com/ You have to find following details:\n",
    "#A) Rank B) State C) GSDP(21-22) D) GSDP(22-23) E) Share(21-22) F) GDP($ billion)\n",
    "\n",
    "driver=webdriver.Chrome()"
   ]
  },
  {
   "cell_type": "code",
   "execution_count": null,
   "id": "8b3f8ecf",
   "metadata": {},
   "outputs": [],
   "source": [
    "driver.get(\"http://statisticstimes.com/\")\n"
   ]
  },
  {
   "cell_type": "code",
   "execution_count": null,
   "id": "3c9dfbd8",
   "metadata": {},
   "outputs": [],
   "source": [
    "Economy=driver.find_element(By.XPATH,'/html/body/div[2]/div[1]/div[2]/div[2]/button')\n",
    "Economy.click()"
   ]
  },
  {
   "cell_type": "code",
   "execution_count": null,
   "id": "bb6dd312",
   "metadata": {},
   "outputs": [],
   "source": [
    "select=driver.find_element(By.XPATH,'//div[@class=\"dropdown-content\"]/a[3]')\n",
    "select.click()"
   ]
  },
  {
   "cell_type": "code",
   "execution_count": null,
   "id": "02128a9a",
   "metadata": {},
   "outputs": [],
   "source": [
    "Indian_States=driver.find_element(By.XPATH,\"/html/body/div[2]/div[2]/div[2]/ul/li[1]/a\")\n",
    "Indian_States.click()"
   ]
  },
  {
   "cell_type": "code",
   "execution_count": null,
   "id": "8d70ddd9",
   "metadata": {},
   "outputs": [],
   "source": [
    "Rank=[]\n",
    "State=[]\n",
    "GSDP22=[]\n",
    "GSDP23=[]\n",
    "Share=[]\n",
    "GDP_billion=[]"
   ]
  },
  {
   "cell_type": "code",
   "execution_count": null,
   "id": "dac6ecb7",
   "metadata": {},
   "outputs": [],
   "source": [
    "Rank_tags = driver.find_elements(By.XPATH,'//tr[@class=\"odd\"]/td[1]')\n",
    "for i in Rank_tags:\n",
    "    number=i.text\n",
    "    Rank.append(number)"
   ]
  },
  {
   "cell_type": "code",
   "execution_count": null,
   "id": "7ed58322",
   "metadata": {},
   "outputs": [],
   "source": [
    "State_tags=driver.find_elements(By.XPATH,'//tr[@class=\"odd\"]/td[2]')\n",
    "for i in State_tags:\n",
    "    name=i.text\n",
    "    State.append(name)"
   ]
  },
  {
   "cell_type": "code",
   "execution_count": null,
   "id": "38d8a25b",
   "metadata": {},
   "outputs": [],
   "source": [
    "GSDP21=driver.find_elements(By.XPATH,'//div[@class=\"dataTables_wrapper\"]/table/tbody/tr/td[5]')\n",
    "for i in GSDP21:\n",
    "    GSDP_tag=i.text\n",
    "    GSDP22.append(GSDP_tag)"
   ]
  },
  {
   "cell_type": "code",
   "execution_count": null,
   "id": "7ff69a93",
   "metadata": {},
   "outputs": [],
   "source": [
    "GSDP22=driver.find_elements(By.XPATH,'//div[@class=\"dataTables_wrapper\"]/table/tbody/tr/td[4]')\n",
    "for i in GSDP22:\n",
    "    GSDP_tag=i.text\n",
    "    GSDP23.append(GSDP_tag)"
   ]
  },
  {
   "cell_type": "code",
   "execution_count": null,
   "id": "d408a939",
   "metadata": {},
   "outputs": [],
   "source": [
    "Share_tag=driver.find_elements(By.XPATH,'//div[@class=\"dataTables_wrapper\"]/table/tbody/tr/td[6]')\n",
    "for i in Share_tag:\n",
    "    percent=i.text\n",
    "    Share.append(percent)"
   ]
  },
  {
   "cell_type": "code",
   "execution_count": null,
   "id": "89c46055",
   "metadata": {},
   "outputs": [],
   "source": [
    "GDP_tag=driver.find_elements(By.XPATH,'//div[@class=\"dataTables_wrapper\"]/table/tbody/tr/td[7]')\n",
    "for i in GDP_tag:\n",
    "    billion=i.text\n",
    "    GDP_billion.append(billion)"
   ]
  },
  {
   "cell_type": "code",
   "execution_count": null,
   "id": "bd983956",
   "metadata": {},
   "outputs": [],
   "source": [
    "print(len(Rank),len(State),len(GSDP22),len(GSDP23),len(Share),len(GDP_billion))"
   ]
  },
  {
   "cell_type": "code",
   "execution_count": null,
   "id": "9ed6156e",
   "metadata": {},
   "outputs": [],
   "source": [
    "df = pd.DataFrame({'Rank':Rank[:34],'State':State[:34],'GSDP 21-22':GSDP22[:34],'GSDP 22-23':GSDP23[:34],'Share':Share[:34],'GDP($ billion)':GDP_billion[:34]})\n",
    "df"
   ]
  },
  {
   "cell_type": "code",
   "execution_count": null,
   "id": "dc212c9d",
   "metadata": {},
   "outputs": [],
   "source": []
  },
  {
   "cell_type": "code",
   "execution_count": null,
   "id": "0ddd844b",
   "metadata": {},
   "outputs": [],
   "source": [
    "#Q4)Scrape the details of trending repositories on Github.com. \n",
    "#Url = https://github.com/ \n",
    "#You have to find the following details: A) Repository title B) Repository description C) Contributors count D) Language used\n",
    "\n",
    "driver=webdriver.Chrome()\n"
   ]
  },
  {
   "cell_type": "code",
   "execution_count": null,
   "id": "fdd7063f",
   "metadata": {},
   "outputs": [],
   "source": [
    "driver.get(\"https://github.com/\")\n"
   ]
  },
  {
   "cell_type": "code",
   "execution_count": null,
   "id": "5ff70a8a",
   "metadata": {},
   "outputs": [],
   "source": [
    "open_source=driver.find_element(By.XPATH,'/html/body/div[1]/div[1]/header/div/div[2]/div/nav/ul/li[3]/button')\n",
    "open_source.click()"
   ]
  },
  {
   "cell_type": "code",
   "execution_count": null,
   "id": "f6cbc4cf",
   "metadata": {},
   "outputs": [],
   "source": [
    "trending=driver.find_element(By.XPATH,'/html/body/div[1]/div[1]/header/div/div[2]/div/nav/ul/li[3]/div/div[3]/ul/li[2]/a')\n",
    "trending.click()"
   ]
  },
  {
   "cell_type": "code",
   "execution_count": null,
   "id": "6ff211e5",
   "metadata": {},
   "outputs": [],
   "source": [
    "Repository_title=[]\n",
    "Repository_description=[]\n",
    "Contributors_count=[]\n",
    "Language_used=[]"
   ]
  },
  {
   "cell_type": "code",
   "execution_count": null,
   "id": "aff5015e",
   "metadata": {},
   "outputs": [],
   "source": [
    "title_tags = driver.find_elements(By.XPATH,'//h2[@class=\"h3 lh-condensed\"]')\n",
    "for i in title_tags:\n",
    "    name=i.text\n",
    "    Repository_title.append(name)"
   ]
  },
  {
   "cell_type": "code",
   "execution_count": null,
   "id": "6547b85e",
   "metadata": {},
   "outputs": [],
   "source": [
    "description_tags = driver.find_elements(By.XPATH,'//p[@class=\"col-9 color-fg-muted my-1 pr-4\"]')\n",
    "for i in description_tags:\n",
    "    data=i.text\n",
    "    Repository_description.append(data)"
   ]
  },
  {
   "cell_type": "code",
   "execution_count": null,
   "id": "237448ea",
   "metadata": {},
   "outputs": [],
   "source": [
    "contro_tags = driver.find_elements(By.XPATH,'//a[@class=\"Link Link--muted d-inline-block mr-3\"]')\n",
    "for i in contro_tags:\n",
    "    share=i.text\n",
    "    Contributors_count.append(share)"
   ]
  },
  {
   "cell_type": "code",
   "execution_count": null,
   "id": "186e02f4",
   "metadata": {},
   "outputs": [],
   "source": [
    "language_tags = driver.find_elements(By.XPATH,'//span[@itemprop=\"programmingLanguage\"]')\n",
    "for i in language_tags:\n",
    "    lang=i.text\n",
    "    Language_used.append(lang)"
   ]
  },
  {
   "cell_type": "code",
   "execution_count": null,
   "id": "edd2e1ee",
   "metadata": {},
   "outputs": [],
   "source": [
    "print(len(Repository_title),len(Repository_description),len(Contributors_count),len(Language_used))\n"
   ]
  },
  {
   "cell_type": "code",
   "execution_count": null,
   "id": "7355d817",
   "metadata": {},
   "outputs": [],
   "source": [
    "df = pd.DataFrame({'Repository_title':Repository_title[:19],'Repository_description':Repository_description[:19],'Contributors_count':Contributors_count[:19],'Language_used':Language_used[:19]})\n",
    "df"
   ]
  },
  {
   "cell_type": "code",
   "execution_count": null,
   "id": "b4f032d2",
   "metadata": {},
   "outputs": [],
   "source": []
  },
  {
   "cell_type": "code",
   "execution_count": null,
   "id": "b604ccdb",
   "metadata": {},
   "outputs": [],
   "source": [
    "#Q5)Scrape the details of top 100 songs on billiboard.com. Url = https:/www.billboard.com/ You have to find the \n",
    "#following details: A) Song name B) Artist name C) Last week rank D) Peak rank E) Weeks on board\n",
    "\n",
    "driver=webdriver.Chrome()"
   ]
  },
  {
   "cell_type": "code",
   "execution_count": null,
   "id": "90bb9cef",
   "metadata": {},
   "outputs": [],
   "source": [
    "driver.get(\"http://www.billboard.com/\")\n"
   ]
  },
  {
   "cell_type": "code",
   "execution_count": null,
   "id": "df8c1db2",
   "metadata": {},
   "outputs": [],
   "source": [
    "billboardhot100=driver.find_element(By.XPATH,\"/html/body/div[3]/header/div/div[3]/div/nav/ul/li[1]/a\")\n",
    "billboardhot100.click()\n"
   ]
  },
  {
   "cell_type": "code",
   "execution_count": null,
   "id": "1adfbec6",
   "metadata": {},
   "outputs": [],
   "source": [
    "Song_name=[]\n",
    "Artist_name=[]\n",
    "Last_week_rank=[]\n",
    "Peak_rank=[]\n",
    "Weeks_on_board=[]"
   ]
  },
  {
   "cell_type": "code",
   "execution_count": null,
   "id": "1f4f16d9",
   "metadata": {},
   "outputs": [],
   "source": [
    "songs= driver.find_elements(By.XPATH,'//div[@class=\"o-chart-results-list-row-container\"]/ul/li[4]/ul/li/h3')\n",
    "for i in songs:\n",
    "    name=i.text\n",
    "    Song_name.append(name)"
   ]
  },
  {
   "cell_type": "code",
   "execution_count": null,
   "id": "a91a6bec",
   "metadata": {},
   "outputs": [],
   "source": [
    "artists=driver.find_elements(By.XPATH,'//div[@class=\"o-chart-results-list-row-container\"]/ul/li[4]/ul/li/span')\n",
    "for i in artists:\n",
    "    name=i.text\n",
    "    Artist_name.append(name)"
   ]
  },
  {
   "cell_type": "code",
   "execution_count": null,
   "id": "48e87395",
   "metadata": {},
   "outputs": [],
   "source": [
    "LWR=driver.find_elements(By.XPATH,'//div[@class=\"o-chart-results-list-row-container\"]/ul/li[4]/ul/li[4]')\n",
    "for i in LWR:\n",
    "    name=i.text\n",
    "    Last_week_rank.append(name)"
   ]
  },
  {
   "cell_type": "code",
   "execution_count": null,
   "id": "ff0f7902",
   "metadata": {},
   "outputs": [],
   "source": [
    "Peak=driver.find_elements(By.XPATH,'//div[@class=\"o-chart-results-list-row-container\"]/ul/li[4]/ul/li[5]')\n",
    "for i in Peak:\n",
    "    name=i.text\n",
    "    Peak_rank.append(name)"
   ]
  },
  {
   "cell_type": "code",
   "execution_count": null,
   "id": "5213d2cf",
   "metadata": {},
   "outputs": [],
   "source": [
    "Weeks=driver.find_elements(By.XPATH,'//div[@class=\"o-chart-results-list-row-container\"]/ul/li[4]/ul/li[6]')\n",
    "for i in Weeks:\n",
    "    name=i.text\n",
    "    Weeks_on_board.append(name)"
   ]
  },
  {
   "cell_type": "code",
   "execution_count": null,
   "id": "a3df45cc",
   "metadata": {},
   "outputs": [],
   "source": [
    "print(len(Song_name),len(Artist_name),len(Last_week_rank),len(Peak_rank),len(Weeks_on_board))\n"
   ]
  },
  {
   "cell_type": "code",
   "execution_count": null,
   "id": "b0a08e0a",
   "metadata": {},
   "outputs": [],
   "source": [
    "df = pd.DataFrame({'Song_name':Song_name,'Artist_name':Artist_name[:100],'Last_week_rank':Last_week_rank,'Peak_rank':Peak_rank,'Weeks_on_board':Weeks_on_board})\n",
    "df"
   ]
  },
  {
   "cell_type": "code",
   "execution_count": null,
   "id": "b4429051",
   "metadata": {},
   "outputs": [],
   "source": []
  },
  {
   "cell_type": "code",
   "execution_count": null,
   "id": "7fd5f84b",
   "metadata": {},
   "outputs": [],
   "source": [
    "#Q6)Scrape the details of Highest selling novels. \n",
    "#A) Book name B) Author name C) Volumes sold D) Publisher E) Genre\n",
    "\n",
    "driver=webdriver.Chrome()\n"
   ]
  },
  {
   "cell_type": "code",
   "execution_count": null,
   "id": "476dc786",
   "metadata": {},
   "outputs": [],
   "source": [
    "driver.get(\"https://www.theguardian.com/news/datablog/2012/aug/09/best-selling-books-all-time-fifty-shades-grey-compare\")\n"
   ]
  },
  {
   "cell_type": "code",
   "execution_count": null,
   "id": "6390ace7",
   "metadata": {},
   "outputs": [],
   "source": [
    "Book_name=[]\n",
    "Author_name=[]\n",
    "Volumes_sold=[]\n",
    "Publisher=[]\n",
    "Genre=[]"
   ]
  },
  {
   "cell_type": "code",
   "execution_count": null,
   "id": "418aa6d6",
   "metadata": {},
   "outputs": [],
   "source": [
    "book= driver.find_elements(By.XPATH,'//div[@class=\"embed block\"]/table/tbody/tr/td[2]')\n",
    "for i in book:\n",
    "    name=i.text\n",
    "    Book_name.append(name)"
   ]
  },
  {
   "cell_type": "code",
   "execution_count": null,
   "id": "e476832b",
   "metadata": {},
   "outputs": [],
   "source": [
    "author= driver.find_elements(By.XPATH,'//div[@class=\"embed block\"]/table/tbody/tr/td[3]')\n",
    "for i in author:\n",
    "    name=i.text\n",
    "    Author_name.append(name)"
   ]
  },
  {
   "cell_type": "code",
   "execution_count": null,
   "id": "357f3f0d",
   "metadata": {},
   "outputs": [],
   "source": [
    "volume= driver.find_elements(By.XPATH,'//div[@class=\"embed block\"]/table/tbody/tr/td[4]')\n",
    "for i in volume:\n",
    "    name=i.text\n",
    "    Volumes_sold.append(name)"
   ]
  },
  {
   "cell_type": "code",
   "execution_count": null,
   "id": "902c08a3",
   "metadata": {},
   "outputs": [],
   "source": [
    "Publisher_tags= driver.find_elements(By.XPATH,'//div[@class=\"embed block\"]/table/tbody/tr/td[5]')\n",
    "for i in Publisher_tags:\n",
    "    name=i.text\n",
    "    Publisher.append(name)"
   ]
  },
  {
   "cell_type": "code",
   "execution_count": null,
   "id": "c38fb3d8",
   "metadata": {},
   "outputs": [],
   "source": [
    "Genre_tags = driver.find_elements(By.XPATH,'//div[@class=\"embed block\"]/table/tbody/tr/td[6]')\n",
    "for i in Genre_tags:\n",
    "    name=i.text\n",
    "    Genre.append(name)"
   ]
  },
  {
   "cell_type": "code",
   "execution_count": null,
   "id": "93b76031",
   "metadata": {},
   "outputs": [],
   "source": [
    "print(len(Book_name),len(Author_name),len(Volumes_sold),len(Publisher),len(Genre))\n"
   ]
  },
  {
   "cell_type": "code",
   "execution_count": null,
   "id": "d7a157b3",
   "metadata": {},
   "outputs": [],
   "source": [
    "df = pd.DataFrame({'Book_name':Book_name,'Author_name':Author_name,'Volumes_sold':Volumes_sold,'Publisher':Publisher[:100],'Genre':Genre})\n",
    "df"
   ]
  },
  {
   "cell_type": "code",
   "execution_count": null,
   "id": "965f2ef0",
   "metadata": {},
   "outputs": [],
   "source": []
  },
  {
   "cell_type": "code",
   "execution_count": 3,
   "id": "caa90299",
   "metadata": {},
   "outputs": [],
   "source": [
    "#Q8. Details of Datasets from UCI machine learning repositories. \n",
    "#Url = https://archive.ics.uci.edu/ You have to find the following details: \n",
    "#A) Dataset name B) Data type C) Task D) Attribute type E) No of instances F) No of attribute G) Year\n",
    "\n",
    "driver=webdriver.Chrome()\n"
   ]
  },
  {
   "cell_type": "code",
   "execution_count": 4,
   "id": "a3278344",
   "metadata": {},
   "outputs": [],
   "source": [
    "driver.get(\"https://archive.ics.uci.edu/\")\n"
   ]
  },
  {
   "cell_type": "code",
   "execution_count": 5,
   "id": "602050c7",
   "metadata": {},
   "outputs": [],
   "source": [
    "Dataset=driver.find_element(By.XPATH,\"/html/body/div/div[1]/div[1]/main/div/div[1]/div/div/div/a[1]\")\n",
    "Dataset.click()"
   ]
  },
  {
   "cell_type": "code",
   "execution_count": 6,
   "id": "b7bf80d3",
   "metadata": {},
   "outputs": [],
   "source": [
    "expand=driver.find_element(By.XPATH,'/html/body/div/div[1]/div[1]/main/div/div[2]/div[1]/div/label[2]/div[2]/span[2]')\n",
    "expand.click()"
   ]
  },
  {
   "cell_type": "code",
   "execution_count": 7,
   "id": "f01effd4",
   "metadata": {},
   "outputs": [],
   "source": [
    "Dataset_name=[]\n",
    "Data_type=[]\n",
    "Task=[]\n",
    "Attribute_type=[]\n",
    "No_of_instances=[]\n",
    "No_of_attribute=[]\n",
    "Year=[]"
   ]
  },
  {
   "cell_type": "code",
   "execution_count": 8,
   "id": "1e4f66c9",
   "metadata": {},
   "outputs": [],
   "source": [
    "Data= driver.find_elements(By.XPATH,'//h2[@class=\"truncate text-primary\"]')\n",
    "for i in Data:\n",
    "    names=i.text\n",
    "    Dataset_name.append(names)"
   ]
  },
  {
   "cell_type": "code",
   "execution_count": 9,
   "id": "bf4bed9b",
   "metadata": {},
   "outputs": [],
   "source": [
    "Dtype= driver.find_elements(By.XPATH,'//div[@class=\"col-span-3 flex items-center gap-2\"][2]')\n",
    "for i in Dtype:\n",
    "    names=i.text\n",
    "    Data_type.append(names)"
   ]
  },
  {
   "cell_type": "code",
   "execution_count": 10,
   "id": "064a755a",
   "metadata": {},
   "outputs": [],
   "source": [
    "task= driver.find_elements(By.XPATH,'//div[@class=\"col-span-3 flex items-center gap-2\"][1]')\n",
    "for i in task:\n",
    "    names=i.text\n",
    "    Task.append(names)"
   ]
  },
  {
   "cell_type": "code",
   "execution_count": 11,
   "id": "d3b19a74",
   "metadata": {},
   "outputs": [],
   "source": [
    "attri= driver.find_elements(By.XPATH,'//div[@class=\"grid grid-cols-8 overflow-x-auto\"]/table/tbody/tr/td[2]')\n",
    "for i in attri:\n",
    "    names=i.text\n",
    "    Attribute_type.append(names)"
   ]
  },
  {
   "cell_type": "code",
   "execution_count": 12,
   "id": "5426f598",
   "metadata": {},
   "outputs": [],
   "source": [
    "instance= driver.find_elements(By.XPATH,'//div[@class=\"col-span-3 flex items-center gap-2\"][3]')\n",
    "for i in instance:\n",
    "    names=i.text\n",
    "    No_of_instances.append(names)"
   ]
  },
  {
   "cell_type": "code",
   "execution_count": 13,
   "id": "8bf288c5",
   "metadata": {},
   "outputs": [],
   "source": [
    "Numberattri= driver.find_elements(By.XPATH,'//div[@class=\"col-span-3 flex items-center gap-2\"][4]')\n",
    "for i in Numberattri:\n",
    "    names=i.text\n",
    "    No_of_attribute.append(names)"
   ]
  },
  {
   "cell_type": "code",
   "execution_count": 14,
   "id": "0183f32e",
   "metadata": {},
   "outputs": [],
   "source": [
    "year= driver.find_elements(By.XPATH,'//div[@class=\"grid grid-cols-8 overflow-x-auto\"]/table/tbody/tr/td[3]')\n",
    "for i in year:\n",
    "    names=i.text\n",
    "    Year.append(names)"
   ]
  },
  {
   "cell_type": "code",
   "execution_count": 15,
   "id": "4d71d376",
   "metadata": {},
   "outputs": [
    {
     "name": "stdout",
     "output_type": "stream",
     "text": [
      "10 10 10 10 10 10 10\n"
     ]
    }
   ],
   "source": [
    "print(len(Dataset_name),len(Data_type),len(Task),len(Attribute_type),len(No_of_instances),len(No_of_attribute),len(Year))\n"
   ]
  },
  {
   "cell_type": "code",
   "execution_count": 16,
   "id": "901e721f",
   "metadata": {},
   "outputs": [
    {
     "data": {
      "text/html": [
       "<div>\n",
       "<style scoped>\n",
       "    .dataframe tbody tr th:only-of-type {\n",
       "        vertical-align: middle;\n",
       "    }\n",
       "\n",
       "    .dataframe tbody tr th {\n",
       "        vertical-align: top;\n",
       "    }\n",
       "\n",
       "    .dataframe thead th {\n",
       "        text-align: right;\n",
       "    }\n",
       "</style>\n",
       "<table border=\"1\" class=\"dataframe\">\n",
       "  <thead>\n",
       "    <tr style=\"text-align: right;\">\n",
       "      <th></th>\n",
       "      <th>Dataset_name</th>\n",
       "      <th>Data_type</th>\n",
       "      <th>Task</th>\n",
       "      <th>Attribute_type</th>\n",
       "      <th>No_of_instances</th>\n",
       "      <th>No_of_attribute</th>\n",
       "      <th>Year</th>\n",
       "    </tr>\n",
       "  </thead>\n",
       "  <tbody>\n",
       "    <tr>\n",
       "      <th>0</th>\n",
       "      <td>Iris</td>\n",
       "      <td>Tabular</td>\n",
       "      <td>Classification</td>\n",
       "      <td>Real</td>\n",
       "      <td>150 Instances</td>\n",
       "      <td>4 Features</td>\n",
       "      <td>7/1/1988</td>\n",
       "    </tr>\n",
       "    <tr>\n",
       "      <th>1</th>\n",
       "      <td>Dry Bean</td>\n",
       "      <td>Multivariate</td>\n",
       "      <td>Classification</td>\n",
       "      <td>Integer, Real</td>\n",
       "      <td>13.61K Instances</td>\n",
       "      <td>16 Features</td>\n",
       "      <td>9/14/2020</td>\n",
       "    </tr>\n",
       "    <tr>\n",
       "      <th>2</th>\n",
       "      <td>Heart Disease</td>\n",
       "      <td>Multivariate</td>\n",
       "      <td>Classification</td>\n",
       "      <td>Categorical, Integer, Real</td>\n",
       "      <td>303 Instances</td>\n",
       "      <td>13 Features</td>\n",
       "      <td>7/1/1988</td>\n",
       "    </tr>\n",
       "    <tr>\n",
       "      <th>3</th>\n",
       "      <td>Rice (Cammeo and Osmancik)</td>\n",
       "      <td>Multivariate</td>\n",
       "      <td>Classification</td>\n",
       "      <td>Real</td>\n",
       "      <td>3.81K Instances</td>\n",
       "      <td>7 Features</td>\n",
       "      <td>10/6/2019</td>\n",
       "    </tr>\n",
       "    <tr>\n",
       "      <th>4</th>\n",
       "      <td>Adult</td>\n",
       "      <td>Multivariate</td>\n",
       "      <td>Classification</td>\n",
       "      <td>Categorical, Integer</td>\n",
       "      <td>48.84K Instances</td>\n",
       "      <td>14 Features</td>\n",
       "      <td>5/1/1996</td>\n",
       "    </tr>\n",
       "    <tr>\n",
       "      <th>5</th>\n",
       "      <td>Raisin</td>\n",
       "      <td>Multivariate</td>\n",
       "      <td>Classification</td>\n",
       "      <td>Real, Integer</td>\n",
       "      <td>900 Instances</td>\n",
       "      <td>8 Features</td>\n",
       "      <td>8/14/2023</td>\n",
       "    </tr>\n",
       "    <tr>\n",
       "      <th>6</th>\n",
       "      <td>Breast Cancer Wisconsin (Diagnostic)</td>\n",
       "      <td>Multivariate</td>\n",
       "      <td>Classification</td>\n",
       "      <td>Real</td>\n",
       "      <td>569 Instances</td>\n",
       "      <td>30 Features</td>\n",
       "      <td>11/1/1995</td>\n",
       "    </tr>\n",
       "    <tr>\n",
       "      <th>7</th>\n",
       "      <td>Wine</td>\n",
       "      <td>Tabular</td>\n",
       "      <td>Classification</td>\n",
       "      <td>Integer, Real</td>\n",
       "      <td>178 Instances</td>\n",
       "      <td>13 Features</td>\n",
       "      <td>7/1/1991</td>\n",
       "    </tr>\n",
       "    <tr>\n",
       "      <th>8</th>\n",
       "      <td>Wine Quality</td>\n",
       "      <td>Multivariate</td>\n",
       "      <td>Classification, Regression</td>\n",
       "      <td>Real</td>\n",
       "      <td>4.9K Instances</td>\n",
       "      <td>12 Features</td>\n",
       "      <td>10/7/2009</td>\n",
       "    </tr>\n",
       "    <tr>\n",
       "      <th>9</th>\n",
       "      <td>Diabetes</td>\n",
       "      <td>Multivariate, Time-Series</td>\n",
       "      <td>Classification</td>\n",
       "      <td>Categorical, Integer</td>\n",
       "      <td>1 Instances</td>\n",
       "      <td>20 Features</td>\n",
       "      <td>N/A</td>\n",
       "    </tr>\n",
       "  </tbody>\n",
       "</table>\n",
       "</div>"
      ],
      "text/plain": [
       "                           Dataset_name                  Data_type  \\\n",
       "0                                  Iris                    Tabular   \n",
       "1                              Dry Bean               Multivariate   \n",
       "2                         Heart Disease               Multivariate   \n",
       "3            Rice (Cammeo and Osmancik)               Multivariate   \n",
       "4                                 Adult               Multivariate   \n",
       "5                                Raisin               Multivariate   \n",
       "6  Breast Cancer Wisconsin (Diagnostic)               Multivariate   \n",
       "7                                  Wine                    Tabular   \n",
       "8                          Wine Quality               Multivariate   \n",
       "9                              Diabetes  Multivariate, Time-Series   \n",
       "\n",
       "                         Task              Attribute_type   No_of_instances  \\\n",
       "0              Classification                        Real     150 Instances   \n",
       "1              Classification               Integer, Real  13.61K Instances   \n",
       "2              Classification  Categorical, Integer, Real     303 Instances   \n",
       "3              Classification                        Real   3.81K Instances   \n",
       "4              Classification        Categorical, Integer  48.84K Instances   \n",
       "5              Classification               Real, Integer     900 Instances   \n",
       "6              Classification                        Real     569 Instances   \n",
       "7              Classification               Integer, Real     178 Instances   \n",
       "8  Classification, Regression                        Real    4.9K Instances   \n",
       "9              Classification        Categorical, Integer       1 Instances   \n",
       "\n",
       "  No_of_attribute       Year  \n",
       "0      4 Features   7/1/1988  \n",
       "1     16 Features  9/14/2020  \n",
       "2     13 Features   7/1/1988  \n",
       "3      7 Features  10/6/2019  \n",
       "4     14 Features   5/1/1996  \n",
       "5      8 Features  8/14/2023  \n",
       "6     30 Features  11/1/1995  \n",
       "7     13 Features   7/1/1991  \n",
       "8     12 Features  10/7/2009  \n",
       "9     20 Features        N/A  "
      ]
     },
     "execution_count": 16,
     "metadata": {},
     "output_type": "execute_result"
    }
   ],
   "source": [
    "df = pd.DataFrame({'Dataset_name':Dataset_name,'Data_type':Data_type,'Task':Task,'Attribute_type':Attribute_type,'No_of_instances':No_of_instances,'No_of_attribute':No_of_attribute,'Year':Year})\n",
    "df"
   ]
  },
  {
   "cell_type": "code",
   "execution_count": null,
   "id": "d1ba57ae",
   "metadata": {},
   "outputs": [],
   "source": []
  }
 ],
 "metadata": {
  "kernelspec": {
   "display_name": "Python 3 (ipykernel)",
   "language": "python",
   "name": "python3"
  },
  "language_info": {
   "codemirror_mode": {
    "name": "ipython",
    "version": 3
   },
   "file_extension": ".py",
   "mimetype": "text/x-python",
   "name": "python",
   "nbconvert_exporter": "python",
   "pygments_lexer": "ipython3",
   "version": "3.11.5"
  }
 },
 "nbformat": 4,
 "nbformat_minor": 5
}
